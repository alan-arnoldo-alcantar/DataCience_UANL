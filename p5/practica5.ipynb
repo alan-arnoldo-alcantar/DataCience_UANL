{
 "cells": [
  {
   "cell_type": "markdown",
   "metadata": {},
   "source": [
    "# Práctica 5: Pruebas estadísticas"
   ]
  },
  {
   "cell_type": "markdown",
   "metadata": {},
   "source": [
    "En esta práctica se retomar las conclusiones de las practicas pasadas, las cuales están basadas en simples observaciones gráficas y de estadística descriptiva, para establecer preguntas que sean contestadas con el uso de las pruebas de hipótesis.\n",
    "\n",
    "Se inicia delimitando el trabajo en base a las observaciones de los niveles de cada factor:"
   ]
  },
  {
   "cell_type": "code",
   "execution_count": 19,
   "metadata": {
    "collapsed": true
   },
   "outputs": [],
   "source": [
    "alphas=[0.0001,1.0]\n",
    "neuronas_num=[150,210]\n",
    "layer_num=[1]"
   ]
  },
  {
   "cell_type": "code",
   "execution_count": 55,
   "metadata": {},
   "outputs": [
    {
     "data": {
      "text/html": [
       "<script type=\"text/javascript\">window.PlotlyConfig = {MathJaxConfig: 'local'};</script><script type=\"text/javascript\">if (window.MathJax) {MathJax.Hub.Config({SVG: {font: \"STIX-Web\"}});}</script><script>requirejs.config({paths: { 'plotly': ['https://cdn.plot.ly/plotly-latest.min']},});if(!window._Plotly) {require(['plotly'],function(plotly) {window._Plotly=plotly;});}</script>"
      ],
      "text/vnd.plotly.v1+html": [
       "<script type=\"text/javascript\">window.PlotlyConfig = {MathJaxConfig: 'local'};</script><script type=\"text/javascript\">if (window.MathJax) {MathJax.Hub.Config({SVG: {font: \"STIX-Web\"}});}</script><script>requirejs.config({paths: { 'plotly': ['https://cdn.plot.ly/plotly-latest.min']},});if(!window._Plotly) {require(['plotly'],function(plotly) {window._Plotly=plotly;});}</script>"
      ]
     },
     "metadata": {},
     "output_type": "display_data"
    }
   ],
   "source": [
    "import matplotlib as mpl \n",
    "import matplotlib.pyplot as plt \n",
    "from statsmodels.graphics.gofplots import qqplot\n",
    "import plotly as py\n",
    "import plotly.graph_objs as go\n",
    "import ipywidgets as widgets\n",
    "import numpy as np\n",
    "from scipy import special\n",
    "import pandas as pd\n",
    "pd.set_option('max_rows', 10)\n",
    "import ssl\n",
    "py.offline.init_notebook_mode(connected=True)"
   ]
  },
  {
   "cell_type": "code",
   "execution_count": 49,
   "metadata": {},
   "outputs": [],
   "source": [
    "d = pd.read_csv(\"../lbfgs_crudo.csv\") "
   ]
  },
  {
   "cell_type": "code",
   "execution_count": 50,
   "metadata": {},
   "outputs": [
    {
     "data": {
      "text/html": [
       "<div>\n",
       "<style>\n",
       "    .dataframe thead tr:only-child th {\n",
       "        text-align: right;\n",
       "    }\n",
       "\n",
       "    .dataframe thead th {\n",
       "        text-align: left;\n",
       "    }\n",
       "\n",
       "    .dataframe tbody tr th {\n",
       "        vertical-align: top;\n",
       "    }\n",
       "</style>\n",
       "<table border=\"1\" class=\"dataframe\">\n",
       "  <thead>\n",
       "    <tr style=\"text-align: right;\">\n",
       "      <th></th>\n",
       "      <th>Unnamed: 0</th>\n",
       "      <th>partition</th>\n",
       "      <th>layer_num</th>\n",
       "      <th>neurona_num</th>\n",
       "      <th>activation</th>\n",
       "      <th>alpha</th>\n",
       "      <th>train_accuracy</th>\n",
       "      <th>training_time</th>\n",
       "      <th>test_accuracy</th>\n",
       "    </tr>\n",
       "  </thead>\n",
       "  <tbody>\n",
       "    <tr>\n",
       "      <th>0</th>\n",
       "      <td>1728</td>\n",
       "      <td>10</td>\n",
       "      <td>1</td>\n",
       "      <td>30</td>\n",
       "      <td>logistic</td>\n",
       "      <td>0.0001</td>\n",
       "      <td>0.927833</td>\n",
       "      <td>23.156492</td>\n",
       "      <td>0.8789</td>\n",
       "    </tr>\n",
       "    <tr>\n",
       "      <th>1</th>\n",
       "      <td>1729</td>\n",
       "      <td>10</td>\n",
       "      <td>1</td>\n",
       "      <td>30</td>\n",
       "      <td>logistic</td>\n",
       "      <td>1.0000</td>\n",
       "      <td>0.950167</td>\n",
       "      <td>21.880265</td>\n",
       "      <td>0.8949</td>\n",
       "    </tr>\n",
       "    <tr>\n",
       "      <th>2</th>\n",
       "      <td>1730</td>\n",
       "      <td>10</td>\n",
       "      <td>1</td>\n",
       "      <td>30</td>\n",
       "      <td>logistic</td>\n",
       "      <td>10000.0000</td>\n",
       "      <td>0.802000</td>\n",
       "      <td>6.253907</td>\n",
       "      <td>0.8065</td>\n",
       "    </tr>\n",
       "    <tr>\n",
       "      <th>3</th>\n",
       "      <td>1731</td>\n",
       "      <td>10</td>\n",
       "      <td>1</td>\n",
       "      <td>30</td>\n",
       "      <td>tanh</td>\n",
       "      <td>0.0001</td>\n",
       "      <td>0.926333</td>\n",
       "      <td>22.267032</td>\n",
       "      <td>0.8854</td>\n",
       "    </tr>\n",
       "    <tr>\n",
       "      <th>4</th>\n",
       "      <td>1732</td>\n",
       "      <td>10</td>\n",
       "      <td>1</td>\n",
       "      <td>30</td>\n",
       "      <td>tanh</td>\n",
       "      <td>1.0000</td>\n",
       "      <td>0.910000</td>\n",
       "      <td>22.207077</td>\n",
       "      <td>0.8725</td>\n",
       "    </tr>\n",
       "    <tr>\n",
       "      <th>...</th>\n",
       "      <td>...</td>\n",
       "      <td>...</td>\n",
       "      <td>...</td>\n",
       "      <td>...</td>\n",
       "      <td>...</td>\n",
       "      <td>...</td>\n",
       "      <td>...</td>\n",
       "      <td>...</td>\n",
       "      <td>...</td>\n",
       "    </tr>\n",
       "    <tr>\n",
       "      <th>8625</th>\n",
       "      <td>29563</td>\n",
       "      <td>90</td>\n",
       "      <td>10</td>\n",
       "      <td>210</td>\n",
       "      <td>logistic</td>\n",
       "      <td>1.0000</td>\n",
       "      <td>0.100000</td>\n",
       "      <td>30.609275</td>\n",
       "      <td>0.0974</td>\n",
       "    </tr>\n",
       "    <tr>\n",
       "      <th>8626</th>\n",
       "      <td>29564</td>\n",
       "      <td>90</td>\n",
       "      <td>10</td>\n",
       "      <td>210</td>\n",
       "      <td>logistic</td>\n",
       "      <td>10000.0000</td>\n",
       "      <td>0.100000</td>\n",
       "      <td>152.781862</td>\n",
       "      <td>0.0958</td>\n",
       "    </tr>\n",
       "    <tr>\n",
       "      <th>8627</th>\n",
       "      <td>29565</td>\n",
       "      <td>90</td>\n",
       "      <td>10</td>\n",
       "      <td>210</td>\n",
       "      <td>tanh</td>\n",
       "      <td>0.0001</td>\n",
       "      <td>0.999741</td>\n",
       "      <td>608.635419</td>\n",
       "      <td>0.9586</td>\n",
       "    </tr>\n",
       "    <tr>\n",
       "      <th>8628</th>\n",
       "      <td>29566</td>\n",
       "      <td>90</td>\n",
       "      <td>10</td>\n",
       "      <td>210</td>\n",
       "      <td>tanh</td>\n",
       "      <td>1.0000</td>\n",
       "      <td>0.999667</td>\n",
       "      <td>667.529777</td>\n",
       "      <td>0.9548</td>\n",
       "    </tr>\n",
       "    <tr>\n",
       "      <th>8629</th>\n",
       "      <td>29567</td>\n",
       "      <td>90</td>\n",
       "      <td>10</td>\n",
       "      <td>210</td>\n",
       "      <td>tanh</td>\n",
       "      <td>10000.0000</td>\n",
       "      <td>0.100000</td>\n",
       "      <td>82.802846</td>\n",
       "      <td>0.0980</td>\n",
       "    </tr>\n",
       "  </tbody>\n",
       "</table>\n",
       "<p>8630 rows × 9 columns</p>\n",
       "</div>"
      ],
      "text/plain": [
       "      Unnamed: 0  partition  layer_num  neurona_num activation       alpha  \\\n",
       "0           1728         10          1           30   logistic      0.0001   \n",
       "1           1729         10          1           30   logistic      1.0000   \n",
       "2           1730         10          1           30   logistic  10000.0000   \n",
       "3           1731         10          1           30       tanh      0.0001   \n",
       "4           1732         10          1           30       tanh      1.0000   \n",
       "...          ...        ...        ...          ...        ...         ...   \n",
       "8625       29563         90         10          210   logistic      1.0000   \n",
       "8626       29564         90         10          210   logistic  10000.0000   \n",
       "8627       29565         90         10          210       tanh      0.0001   \n",
       "8628       29566         90         10          210       tanh      1.0000   \n",
       "8629       29567         90         10          210       tanh  10000.0000   \n",
       "\n",
       "      train_accuracy  training_time  test_accuracy  \n",
       "0           0.927833      23.156492         0.8789  \n",
       "1           0.950167      21.880265         0.8949  \n",
       "2           0.802000       6.253907         0.8065  \n",
       "3           0.926333      22.267032         0.8854  \n",
       "4           0.910000      22.207077         0.8725  \n",
       "...              ...            ...            ...  \n",
       "8625        0.100000      30.609275         0.0974  \n",
       "8626        0.100000     152.781862         0.0958  \n",
       "8627        0.999741     608.635419         0.9586  \n",
       "8628        0.999667     667.529777         0.9548  \n",
       "8629        0.100000      82.802846         0.0980  \n",
       "\n",
       "[8630 rows x 9 columns]"
      ]
     },
     "execution_count": 50,
     "metadata": {},
     "output_type": "execute_result"
    }
   ],
   "source": [
    "d"
   ]
  },
  {
   "cell_type": "markdown",
   "metadata": {},
   "source": [
    "Esto implica que ahora se necesita un menor numero de graficar para cubrir los niveles restantes de cada factor como se ve a continuación. Para iniciar los histogramas son una herramienta que permite visualizar como es la distribución de los datos, y de nuevo se hace uso de la librería [**plotly**]( https://plot.ly/python/histograms/) para generar las gráficas:"
   ]
  },
  {
   "cell_type": "code",
   "execution_count": 74,
   "metadata": {},
   "outputs": [
    {
     "data": {
      "application/vnd.plotly.v1+json": {
       "config": {
        "linkText": "Export to plot.ly",
        "plotlyServerURL": "https://plot.ly",
        "showLink": false
       },
       "data": [
        {
         "name": "150 neuronas",
         "opacity": 0.75,
         "type": "histogram",
         "uid": "27e5d0b0-c24b-4677-9908-152541a7bf30",
         "x": [
          0.9195,
          0.9271,
          0.9257,
          0.9224,
          0.9244,
          0.924,
          0.9193,
          0.9222,
          0.9246,
          0.925
         ]
        },
        {
         "name": "210 neuronas",
         "opacity": 0.75,
         "type": "histogram",
         "uid": "25d2e9d1-3f2c-4096-a2fc-cc2572a2f1ce",
         "x": [
          0.9299,
          0.9251,
          0.9253,
          0.925,
          0.9273,
          0.9267,
          0.9306,
          0.9302,
          0.9224,
          0.9213
         ]
        }
       ],
       "layout": {
        "barmode": "overlay",
        "title": {
         "text": "particion=10%, activacion=logistic, alpha=0.0001"
        }
       }
      },
      "text/html": [
       "<div id=\"4de5f3ed-491b-4ff4-943f-779a4f806fd1\" style=\"height: 525px; width: 100%;\" class=\"plotly-graph-div\"></div><script type=\"text/javascript\">require([\"plotly\"], function(Plotly) { window.PLOTLYENV=window.PLOTLYENV || {};window.PLOTLYENV.BASE_URL=\"https://plot.ly\";Plotly.newPlot(\"4de5f3ed-491b-4ff4-943f-779a4f806fd1\", [{\"name\": \"150 neuronas\", \"opacity\": 0.75, \"x\": [0.9195, 0.9271, 0.9257, 0.9224, 0.9244, 0.924, 0.9193, 0.9222, 0.9246, 0.925], \"type\": \"histogram\", \"uid\": \"27e5d0b0-c24b-4677-9908-152541a7bf30\"}, {\"name\": \"210 neuronas\", \"opacity\": 0.75, \"x\": [0.9299, 0.9251, 0.9253, 0.925, 0.9273, 0.9267, 0.9306, 0.9302, 0.9224, 0.9213], \"type\": \"histogram\", \"uid\": \"25d2e9d1-3f2c-4096-a2fc-cc2572a2f1ce\"}], {\"barmode\": \"overlay\", \"title\": {\"text\": \"particion=10%, activacion=logistic, alpha=0.0001\"}}, {\"showLink\": false, \"linkText\": \"Export to plot.ly\", \"plotlyServerURL\": \"https://plot.ly\"})});</script><script type=\"text/javascript\">window.addEventListener(\"resize\", function(){window._Plotly.Plots.resize(document.getElementById(\"4de5f3ed-491b-4ff4-943f-779a4f806fd1\"));});</script>"
      ],
      "text/vnd.plotly.v1+html": [
       "<div id=\"4de5f3ed-491b-4ff4-943f-779a4f806fd1\" style=\"height: 525px; width: 100%;\" class=\"plotly-graph-div\"></div><script type=\"text/javascript\">require([\"plotly\"], function(Plotly) { window.PLOTLYENV=window.PLOTLYENV || {};window.PLOTLYENV.BASE_URL=\"https://plot.ly\";Plotly.newPlot(\"4de5f3ed-491b-4ff4-943f-779a4f806fd1\", [{\"name\": \"150 neuronas\", \"opacity\": 0.75, \"x\": [0.9195, 0.9271, 0.9257, 0.9224, 0.9244, 0.924, 0.9193, 0.9222, 0.9246, 0.925], \"type\": \"histogram\", \"uid\": \"27e5d0b0-c24b-4677-9908-152541a7bf30\"}, {\"name\": \"210 neuronas\", \"opacity\": 0.75, \"x\": [0.9299, 0.9251, 0.9253, 0.925, 0.9273, 0.9267, 0.9306, 0.9302, 0.9224, 0.9213], \"type\": \"histogram\", \"uid\": \"25d2e9d1-3f2c-4096-a2fc-cc2572a2f1ce\"}], {\"barmode\": \"overlay\", \"title\": {\"text\": \"particion=10%, activacion=logistic, alpha=0.0001\"}}, {\"showLink\": false, \"linkText\": \"Export to plot.ly\", \"plotlyServerURL\": \"https://plot.ly\"})});</script><script type=\"text/javascript\">window.addEventListener(\"resize\", function(){window._Plotly.Plots.resize(document.getElementById(\"4de5f3ed-491b-4ff4-943f-779a4f806fd1\"));});</script>"
      ]
     },
     "metadata": {},
     "output_type": "display_data"
    },
    {
     "data": {
      "application/vnd.plotly.v1+json": {
       "config": {
        "linkText": "Export to plot.ly",
        "plotlyServerURL": "https://plot.ly",
        "showLink": false
       },
       "data": [
        {
         "name": "150 neuronas",
         "opacity": 0.75,
         "type": "histogram",
         "uid": "80291a4e-8d26-4ee0-ba85-74d5b9042feb",
         "x": [
          0.9305,
          0.9347,
          0.934,
          0.9296,
          0.9377,
          0.9316,
          0.9302,
          0.9307,
          0.9332,
          0.9297
         ]
        },
        {
         "name": "210 neuronas",
         "opacity": 0.75,
         "type": "histogram",
         "uid": "c0ff4f13-9ad4-44e9-90c1-be49fe943ee2",
         "x": [
          0.9354,
          0.9362,
          0.934,
          0.9368,
          0.9315,
          0.9359,
          0.9326,
          0.9339,
          0.9341,
          0.933
         ]
        }
       ],
       "layout": {
        "barmode": "overlay",
        "title": {
         "text": "particion=10%, activacion=logistic, alpha=1.0"
        }
       }
      },
      "text/html": [
       "<div id=\"1dece77f-13ce-46bd-acc6-5f4d19440009\" style=\"height: 525px; width: 100%;\" class=\"plotly-graph-div\"></div><script type=\"text/javascript\">require([\"plotly\"], function(Plotly) { window.PLOTLYENV=window.PLOTLYENV || {};window.PLOTLYENV.BASE_URL=\"https://plot.ly\";Plotly.newPlot(\"1dece77f-13ce-46bd-acc6-5f4d19440009\", [{\"name\": \"150 neuronas\", \"opacity\": 0.75, \"x\": [0.9305, 0.9347, 0.934, 0.9296, 0.9377, 0.9316, 0.9302, 0.9307, 0.9332, 0.9297], \"type\": \"histogram\", \"uid\": \"80291a4e-8d26-4ee0-ba85-74d5b9042feb\"}, {\"name\": \"210 neuronas\", \"opacity\": 0.75, \"x\": [0.9354, 0.9362, 0.934, 0.9368, 0.9315, 0.9359, 0.9326, 0.9339, 0.9341, 0.933], \"type\": \"histogram\", \"uid\": \"c0ff4f13-9ad4-44e9-90c1-be49fe943ee2\"}], {\"barmode\": \"overlay\", \"title\": {\"text\": \"particion=10%, activacion=logistic, alpha=1.0\"}}, {\"showLink\": false, \"linkText\": \"Export to plot.ly\", \"plotlyServerURL\": \"https://plot.ly\"})});</script><script type=\"text/javascript\">window.addEventListener(\"resize\", function(){window._Plotly.Plots.resize(document.getElementById(\"1dece77f-13ce-46bd-acc6-5f4d19440009\"));});</script>"
      ],
      "text/vnd.plotly.v1+html": [
       "<div id=\"1dece77f-13ce-46bd-acc6-5f4d19440009\" style=\"height: 525px; width: 100%;\" class=\"plotly-graph-div\"></div><script type=\"text/javascript\">require([\"plotly\"], function(Plotly) { window.PLOTLYENV=window.PLOTLYENV || {};window.PLOTLYENV.BASE_URL=\"https://plot.ly\";Plotly.newPlot(\"1dece77f-13ce-46bd-acc6-5f4d19440009\", [{\"name\": \"150 neuronas\", \"opacity\": 0.75, \"x\": [0.9305, 0.9347, 0.934, 0.9296, 0.9377, 0.9316, 0.9302, 0.9307, 0.9332, 0.9297], \"type\": \"histogram\", \"uid\": \"80291a4e-8d26-4ee0-ba85-74d5b9042feb\"}, {\"name\": \"210 neuronas\", \"opacity\": 0.75, \"x\": [0.9354, 0.9362, 0.934, 0.9368, 0.9315, 0.9359, 0.9326, 0.9339, 0.9341, 0.933], \"type\": \"histogram\", \"uid\": \"c0ff4f13-9ad4-44e9-90c1-be49fe943ee2\"}], {\"barmode\": \"overlay\", \"title\": {\"text\": \"particion=10%, activacion=logistic, alpha=1.0\"}}, {\"showLink\": false, \"linkText\": \"Export to plot.ly\", \"plotlyServerURL\": \"https://plot.ly\"})});</script><script type=\"text/javascript\">window.addEventListener(\"resize\", function(){window._Plotly.Plots.resize(document.getElementById(\"1dece77f-13ce-46bd-acc6-5f4d19440009\"));});</script>"
      ]
     },
     "metadata": {},
     "output_type": "display_data"
    },
    {
     "data": {
      "application/vnd.plotly.v1+json": {
       "config": {
        "linkText": "Export to plot.ly",
        "plotlyServerURL": "https://plot.ly",
        "showLink": false
       },
       "data": [
        {
         "name": "150 neuronas",
         "opacity": 0.75,
         "type": "histogram",
         "uid": "6bed8662-306c-416b-aa41-23e9f5fb7029",
         "x": [
          0.9252,
          0.9208,
          0.9228,
          0.9206,
          0.9211,
          0.9259,
          0.925,
          0.9273,
          0.9226,
          0.9219
         ]
        },
        {
         "name": "210 neuronas",
         "opacity": 0.75,
         "type": "histogram",
         "uid": "b9cfe6a3-bbb7-4846-91ae-827fc01156d1",
         "x": [
          0.9299,
          0.9315,
          0.9286,
          0.929,
          0.9248,
          0.9269,
          0.9241,
          0.9322,
          0.9293,
          0.9308
         ]
        }
       ],
       "layout": {
        "barmode": "overlay",
        "title": {
         "text": "particion=10%, activacion=tanh, alpha=0.0001"
        }
       }
      },
      "text/html": [
       "<div id=\"19665756-df55-4c3c-b913-653fc99a76a3\" style=\"height: 525px; width: 100%;\" class=\"plotly-graph-div\"></div><script type=\"text/javascript\">require([\"plotly\"], function(Plotly) { window.PLOTLYENV=window.PLOTLYENV || {};window.PLOTLYENV.BASE_URL=\"https://plot.ly\";Plotly.newPlot(\"19665756-df55-4c3c-b913-653fc99a76a3\", [{\"name\": \"150 neuronas\", \"opacity\": 0.75, \"x\": [0.9252, 0.9208, 0.9228, 0.9206, 0.9211, 0.9259, 0.925, 0.9273, 0.9226, 0.9219], \"type\": \"histogram\", \"uid\": \"6bed8662-306c-416b-aa41-23e9f5fb7029\"}, {\"name\": \"210 neuronas\", \"opacity\": 0.75, \"x\": [0.9299, 0.9315, 0.9286, 0.929, 0.9248, 0.9269, 0.9241, 0.9322, 0.9293, 0.9308], \"type\": \"histogram\", \"uid\": \"b9cfe6a3-bbb7-4846-91ae-827fc01156d1\"}], {\"barmode\": \"overlay\", \"title\": {\"text\": \"particion=10%, activacion=tanh, alpha=0.0001\"}}, {\"showLink\": false, \"linkText\": \"Export to plot.ly\", \"plotlyServerURL\": \"https://plot.ly\"})});</script><script type=\"text/javascript\">window.addEventListener(\"resize\", function(){window._Plotly.Plots.resize(document.getElementById(\"19665756-df55-4c3c-b913-653fc99a76a3\"));});</script>"
      ],
      "text/vnd.plotly.v1+html": [
       "<div id=\"19665756-df55-4c3c-b913-653fc99a76a3\" style=\"height: 525px; width: 100%;\" class=\"plotly-graph-div\"></div><script type=\"text/javascript\">require([\"plotly\"], function(Plotly) { window.PLOTLYENV=window.PLOTLYENV || {};window.PLOTLYENV.BASE_URL=\"https://plot.ly\";Plotly.newPlot(\"19665756-df55-4c3c-b913-653fc99a76a3\", [{\"name\": \"150 neuronas\", \"opacity\": 0.75, \"x\": [0.9252, 0.9208, 0.9228, 0.9206, 0.9211, 0.9259, 0.925, 0.9273, 0.9226, 0.9219], \"type\": \"histogram\", \"uid\": \"6bed8662-306c-416b-aa41-23e9f5fb7029\"}, {\"name\": \"210 neuronas\", \"opacity\": 0.75, \"x\": [0.9299, 0.9315, 0.9286, 0.929, 0.9248, 0.9269, 0.9241, 0.9322, 0.9293, 0.9308], \"type\": \"histogram\", \"uid\": \"b9cfe6a3-bbb7-4846-91ae-827fc01156d1\"}], {\"barmode\": \"overlay\", \"title\": {\"text\": \"particion=10%, activacion=tanh, alpha=0.0001\"}}, {\"showLink\": false, \"linkText\": \"Export to plot.ly\", \"plotlyServerURL\": \"https://plot.ly\"})});</script><script type=\"text/javascript\">window.addEventListener(\"resize\", function(){window._Plotly.Plots.resize(document.getElementById(\"19665756-df55-4c3c-b913-653fc99a76a3\"));});</script>"
      ]
     },
     "metadata": {},
     "output_type": "display_data"
    },
    {
     "data": {
      "application/vnd.plotly.v1+json": {
       "config": {
        "linkText": "Export to plot.ly",
        "plotlyServerURL": "https://plot.ly",
        "showLink": false
       },
       "data": [
        {
         "name": "150 neuronas",
         "opacity": 0.75,
         "type": "histogram",
         "uid": "c0312193-12a7-492b-9dbb-ad04e49fe34f",
         "x": [
          0.9246,
          0.9289,
          0.9284,
          0.928,
          0.9279,
          0.9247,
          0.9277,
          0.9226,
          0.9254,
          0.9265
         ]
        },
        {
         "name": "210 neuronas",
         "opacity": 0.75,
         "type": "histogram",
         "uid": "61063ba9-bfe8-4bc8-a941-f06ed20f4a1c",
         "x": [
          0.9398,
          0.9314,
          0.9292,
          0.9336,
          0.9343,
          0.9299,
          0.9304,
          0.9314,
          0.9294,
          0.9299
         ]
        }
       ],
       "layout": {
        "barmode": "overlay",
        "title": {
         "text": "particion=10%, activacion=tanh, alpha=1.0"
        }
       }
      },
      "text/html": [
       "<div id=\"10bfa2d7-9a1f-4f85-a7e5-fe009a2f73d9\" style=\"height: 525px; width: 100%;\" class=\"plotly-graph-div\"></div><script type=\"text/javascript\">require([\"plotly\"], function(Plotly) { window.PLOTLYENV=window.PLOTLYENV || {};window.PLOTLYENV.BASE_URL=\"https://plot.ly\";Plotly.newPlot(\"10bfa2d7-9a1f-4f85-a7e5-fe009a2f73d9\", [{\"name\": \"150 neuronas\", \"opacity\": 0.75, \"x\": [0.9246, 0.9289, 0.9284, 0.928, 0.9279, 0.9247, 0.9277, 0.9226, 0.9254, 0.9265], \"type\": \"histogram\", \"uid\": \"c0312193-12a7-492b-9dbb-ad04e49fe34f\"}, {\"name\": \"210 neuronas\", \"opacity\": 0.75, \"x\": [0.9398, 0.9314, 0.9292, 0.9336, 0.9343, 0.9299, 0.9304, 0.9314, 0.9294, 0.9299], \"type\": \"histogram\", \"uid\": \"61063ba9-bfe8-4bc8-a941-f06ed20f4a1c\"}], {\"barmode\": \"overlay\", \"title\": {\"text\": \"particion=10%, activacion=tanh, alpha=1.0\"}}, {\"showLink\": false, \"linkText\": \"Export to plot.ly\", \"plotlyServerURL\": \"https://plot.ly\"})});</script><script type=\"text/javascript\">window.addEventListener(\"resize\", function(){window._Plotly.Plots.resize(document.getElementById(\"10bfa2d7-9a1f-4f85-a7e5-fe009a2f73d9\"));});</script>"
      ],
      "text/vnd.plotly.v1+html": [
       "<div id=\"10bfa2d7-9a1f-4f85-a7e5-fe009a2f73d9\" style=\"height: 525px; width: 100%;\" class=\"plotly-graph-div\"></div><script type=\"text/javascript\">require([\"plotly\"], function(Plotly) { window.PLOTLYENV=window.PLOTLYENV || {};window.PLOTLYENV.BASE_URL=\"https://plot.ly\";Plotly.newPlot(\"10bfa2d7-9a1f-4f85-a7e5-fe009a2f73d9\", [{\"name\": \"150 neuronas\", \"opacity\": 0.75, \"x\": [0.9246, 0.9289, 0.9284, 0.928, 0.9279, 0.9247, 0.9277, 0.9226, 0.9254, 0.9265], \"type\": \"histogram\", \"uid\": \"c0312193-12a7-492b-9dbb-ad04e49fe34f\"}, {\"name\": \"210 neuronas\", \"opacity\": 0.75, \"x\": [0.9398, 0.9314, 0.9292, 0.9336, 0.9343, 0.9299, 0.9304, 0.9314, 0.9294, 0.9299], \"type\": \"histogram\", \"uid\": \"61063ba9-bfe8-4bc8-a941-f06ed20f4a1c\"}], {\"barmode\": \"overlay\", \"title\": {\"text\": \"particion=10%, activacion=tanh, alpha=1.0\"}}, {\"showLink\": false, \"linkText\": \"Export to plot.ly\", \"plotlyServerURL\": \"https://plot.ly\"})});</script><script type=\"text/javascript\">window.addEventListener(\"resize\", function(){window._Plotly.Plots.resize(document.getElementById(\"10bfa2d7-9a1f-4f85-a7e5-fe009a2f73d9\"));});</script>"
      ]
     },
     "metadata": {},
     "output_type": "display_data"
    }
   ],
   "source": [
    "figs=dict()\n",
    "neuronas=dict()\n",
    "for capas in layer_num:\n",
    "    for i in d.activation.unique():\n",
    "        for j in alphas:\n",
    "            for k in neuronas_num:\n",
    "                neuronas[str(k)+'neuronas,'+str(i)+',a='+str(j)]=list()\n",
    "                for z in d.test_accuracy[(d.partition==10) & (d.activation==i) & (d.alpha==j) &\\\n",
    "                                             (d.neurona_num==k) & (d.layer_num==capas)]:\n",
    "                        neuronas[str(k)+'neuronas,'+str(i)+',a='+str(j)].append(z)\n",
    "            \n",
    "            traces=dict()\n",
    "            for k in neuronas_num:\n",
    "                traces[str(k)]=go.Histogram(\n",
    "                    x=np.array(neuronas[str(k)+'neuronas,'+str(i)+',a='+str(j)]),\n",
    "                    name=str(k)+' neuronas',\n",
    "                    opacity=0.75)\n",
    "\n",
    "            datos=list()\n",
    "            for k in traces:\n",
    "                datos.append(traces[k])\n",
    "            \n",
    "            layout = go.Layout(\n",
    "                title='particion=10%, activacion='+str(i)+', alpha='+str(j),\n",
    "                barmode='overlay')\n",
    "            \n",
    "            figs['10_'+str(i)+'_'+str(j)] = go.Figure(data=datos, layout=layout)\n",
    "            \n",
    "for i in figs:\n",
    "    py.offline.iplot(figs[i], filename='overlaid histogram')"
   ]
  },
  {
   "cell_type": "markdown",
   "metadata": {},
   "source": [
    "Los histogramas presentan una forma característica de la distribución normal, por ello se procede aplicar una prueba de **Shapiro** para establecer si provienen de una distribución normal o no, en esta ocasión se usa la librería [**SciPy**]( https://docs.scipy.org/doc/scipy/reference/index.html) la cual provee a Python de modelo estadísticos:"
   ]
  },
  {
   "cell_type": "code",
   "execution_count": 76,
   "metadata": {},
   "outputs": [
    {
     "name": "stdout",
     "output_type": "stream",
     "text": [
      "\n",
      "activation=logistic,alpha=0.0001,neuronas=150,p-value=0.464\n",
      "aceptablemente normal con nivel de significancia 0.05\n",
      "\n",
      "activation=logistic,alpha=0.0001,neuronas=150,p-value=0.464\n",
      "aceptablemente normal con nivel de significancia 0.01\n",
      "\n",
      "activation=logistic,alpha=0.0001,neuronas=210,p-value=0.496\n",
      "aceptablemente normal con nivel de significancia 0.05\n",
      "\n",
      "activation=logistic,alpha=0.0001,neuronas=210,p-value=0.496\n",
      "aceptablemente normal con nivel de significancia 0.01\n",
      "\n",
      "activation=logistic,alpha=1.0,neuronas=150,p-value=0.142\n",
      "aceptablemente normal con nivel de significancia 0.05\n",
      "\n",
      "activation=logistic,alpha=1.0,neuronas=150,p-value=0.142\n",
      "aceptablemente normal con nivel de significancia 0.01\n",
      "\n",
      "activation=logistic,alpha=1.0,neuronas=210,p-value=0.819\n",
      "aceptablemente normal con nivel de significancia 0.05\n",
      "\n",
      "activation=logistic,alpha=1.0,neuronas=210,p-value=0.819\n",
      "aceptablemente normal con nivel de significancia 0.01\n",
      "\n",
      "activation=tanh,alpha=0.0001,neuronas=150,p-value=0.322\n",
      "aceptablemente normal con nivel de significancia 0.05\n",
      "\n",
      "activation=tanh,alpha=0.0001,neuronas=150,p-value=0.322\n",
      "aceptablemente normal con nivel de significancia 0.01\n",
      "\n",
      "activation=tanh,alpha=0.0001,neuronas=210,p-value=0.506\n",
      "aceptablemente normal con nivel de significancia 0.05\n",
      "\n",
      "activation=tanh,alpha=0.0001,neuronas=210,p-value=0.506\n",
      "aceptablemente normal con nivel de significancia 0.01\n",
      "\n",
      "activation=tanh,alpha=1.0,neuronas=150,p-value=0.338\n",
      "aceptablemente normal con nivel de significancia 0.05\n",
      "\n",
      "activation=tanh,alpha=1.0,neuronas=150,p-value=0.338\n",
      "aceptablemente normal con nivel de significancia 0.01\n",
      "\n",
      "activation=tanh,alpha=1.0,neuronas=210,p-value=0.013\n",
      "no parece ser normal con nivel de significancia 0.05\n",
      "\n",
      "activation=tanh,alpha=1.0,neuronas=210,p-value=0.013\n",
      "aceptablemente normal con nivel de significancia 0.01\n"
     ]
    }
   ],
   "source": [
    "from scipy.stats import shapiro\n",
    "for i in d.activation.unique():\n",
    "    for j in alphas:\n",
    "        for k in neuronas_num:\n",
    "            data=neuronas[str(k)+'neuronas,'+str(i)+',a='+str(j)]\n",
    "            for lim in [0.05, 0.01]:\n",
    "                s, p = shapiro(data)\n",
    "                print('\\nactivation={},alpha={},neuronas={},p-value={:.3f}'.format(i,j,k,p))\n",
    "                if p > lim:\n",
    "                    print('aceptablemente normal con nivel de significancia', lim)\n",
    "                else:\n",
    "                    print('no parece ser normal con nivel de significancia', lim)"
   ]
  },
  {
   "cell_type": "markdown",
   "metadata": {},
   "source": [
    "En base a los resultados se puede concluir que los datos provienen de una distribución normal y por lo tanto es posible usar herramientas que nos permitan saber si los niveles de un factor afectan al rendimiento. Para este punto se usa una prueba de hipótesis de T-test."
   ]
  },
  {
   "cell_type": "code",
   "execution_count": 85,
   "metadata": {},
   "outputs": [
    {
     "name": "stdout",
     "output_type": "stream",
     "text": [
      "la prueba de hipotesis indica que NO existe una diferencia significativa p-value=0.03459225629714305 entre usar                 150 y 210 neuronas con los parametros activacion=logistic y alpha=0.0001\n",
      "\n",
      "la prueba de hipotesis indica que SI existe una diferencia significativa p-value=0.03459225629714305 entre usar                 150 y 210 neuronas con los parametros activacion=logistic y alpha=0.0001\n",
      "\n",
      "la prueba de hipotesis indica que NO existe una diferencia significativa p-value=0.04493984081525475 entre usar                 150 y 210 neuronas con los parametros activacion=logistic y alpha=1.0\n",
      "\n",
      "la prueba de hipotesis indica que SI existe una diferencia significativa p-value=0.04493984081525475 entre usar                 150 y 210 neuronas con los parametros activacion=logistic y alpha=1.0\n",
      "\n",
      "la prueba de hipotesis indica que NO existe una diferencia significativa p-value=0.00016326179797853565 entre usar                 150 y 210 neuronas con los parametros activacion=tanh y alpha=0.0001\n",
      "\n",
      "la prueba de hipotesis indica que NO existe una diferencia significativa p-value=0.00016326179797853565 entre usar                 150 y 210 neuronas con los parametros activacion=tanh y alpha=0.0001\n",
      "\n",
      "la prueba de hipotesis indica que NO existe una diferencia significativa p-value=0.00028885757518774623 entre usar                 150 y 210 neuronas con los parametros activacion=tanh y alpha=1.0\n",
      "\n",
      "la prueba de hipotesis indica que NO existe una diferencia significativa p-value=0.00028885757518774623 entre usar                 150 y 210 neuronas con los parametros activacion=tanh y alpha=1.0\n",
      "\n"
     ]
    }
   ],
   "source": [
    "from scipy.stats import ttest_ind\n",
    "for i in d.activation.unique():\n",
    "    for j in alphas:\n",
    "        for lim in [0.05,0.01]:\n",
    "            t, p = ttest_ind(neuronas['150neuronas,'+str(i)+',a='+str(j)],neuronas['210neuronas,'+str(i)+',a='+str(j)])\n",
    "            if p>lim:\n",
    "                print('la prueba de hipotesis indica que SI existe una diferencia significativa p-value={} entre usar \\\n",
    "                150 y 210 neuronas con los parametros activacion={} y alpha={}\\n'.format(p,i,j))\n",
    "            else:\n",
    "                print('la prueba de hipotesis indica que NO existe una diferencia significativa p-value={} entre usar \\\n",
    "                150 y 210 neuronas con los parametros activacion={} y alpha={}\\n'.format(p,i,j))"
   ]
  },
  {
   "cell_type": "markdown",
   "metadata": {},
   "source": [
    "Podemos concluir que para el caso de entrenar con una partición del 10% de todo el conjunto de datos disponibles, los mejores resultados se obtienen al utilizar 150 0 210 neuronas por cada capa oculta, los valores de alpha 0.0001 y 1.0, y la función de activación `tanh` y `logistic`. Esto porque la prueba de hipótesis apoya la idea que la combinación de estos niveles no produce un cambio sobre el rendimiento."
   ]
  }
 ],
 "metadata": {
  "kernelspec": {
   "display_name": "Python 3",
   "language": "python",
   "name": "python3"
  },
  "language_info": {
   "codemirror_mode": {
    "name": "ipython",
    "version": 3
   },
   "file_extension": ".py",
   "mimetype": "text/x-python",
   "name": "python",
   "nbconvert_exporter": "python",
   "pygments_lexer": "ipython3",
   "version": "3.6.3"
  }
 },
 "nbformat": 4,
 "nbformat_minor": 2
}
