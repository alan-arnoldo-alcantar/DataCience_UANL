{
 "cells": [
  {
   "cell_type": "markdown",
   "metadata": {},
   "source": [
    "# Práctica 6: Modelos lineales con scipy.stats"
   ]
  },
  {
   "cell_type": "markdown",
   "metadata": {},
   "source": [
    "Esta práctica aborda el uso de la librería [**Scipy**](https://www.scipy.org/) para ajustar regresiones lineales a nuestros datos y poder pronosticar aquellas variables que estén correlacionadas.\n",
    "\n",
    "Esta práctica **no hace distinción entre los niveles del factor función de activación** para las capas ocultas. Antes de ajustar una regresión lineal a nuestros datos es bueno averiguar si existen diferencias significativas entre los niveles de los factores restantes, es decir, partición, número de neuronas, número capas y alpha. Sin embargo, primero se debe conocer la distribución de los datos para saber que tipo de prueba aplicar para la diferencia significativa."
   ]
  },
  {
   "cell_type": "code",
   "execution_count": 1,
   "metadata": {
    "collapsed": true
   },
   "outputs": [],
   "source": [
    "import numpy as np\n",
    "import pandas as pd\n",
    "import matplotlib.pyplot as plt \n",
    "from statsmodels.graphics.gofplots import qqplot\n",
    "from scipy.stats import shapiro, mannwhitneyu, wilcoxon,  kruskal\n",
    "from scipy import stats\n",
    "pd.set_option('max_rows', 10)"
   ]
  },
  {
   "cell_type": "code",
   "execution_count": 2,
   "metadata": {
    "scrolled": true
   },
   "outputs": [
    {
     "data": {
      "text/html": [
       "<div>\n",
       "<style>\n",
       "    .dataframe thead tr:only-child th {\n",
       "        text-align: right;\n",
       "    }\n",
       "\n",
       "    .dataframe thead th {\n",
       "        text-align: left;\n",
       "    }\n",
       "\n",
       "    .dataframe tbody tr th {\n",
       "        vertical-align: top;\n",
       "    }\n",
       "</style>\n",
       "<table border=\"1\" class=\"dataframe\">\n",
       "  <thead>\n",
       "    <tr style=\"text-align: right;\">\n",
       "      <th></th>\n",
       "      <th>Unnamed: 0</th>\n",
       "      <th>partition</th>\n",
       "      <th>layer_num</th>\n",
       "      <th>neurona_num</th>\n",
       "      <th>activation</th>\n",
       "      <th>alpha</th>\n",
       "      <th>train_accuracy</th>\n",
       "      <th>training_time</th>\n",
       "      <th>test_accuracy</th>\n",
       "    </tr>\n",
       "  </thead>\n",
       "  <tbody>\n",
       "    <tr>\n",
       "      <th>0</th>\n",
       "      <td>1728</td>\n",
       "      <td>10</td>\n",
       "      <td>1</td>\n",
       "      <td>30</td>\n",
       "      <td>logistic</td>\n",
       "      <td>0.0001</td>\n",
       "      <td>0.927833</td>\n",
       "      <td>23.156492</td>\n",
       "      <td>0.8789</td>\n",
       "    </tr>\n",
       "    <tr>\n",
       "      <th>1</th>\n",
       "      <td>1729</td>\n",
       "      <td>10</td>\n",
       "      <td>1</td>\n",
       "      <td>30</td>\n",
       "      <td>logistic</td>\n",
       "      <td>1.0000</td>\n",
       "      <td>0.950167</td>\n",
       "      <td>21.880265</td>\n",
       "      <td>0.8949</td>\n",
       "    </tr>\n",
       "    <tr>\n",
       "      <th>2</th>\n",
       "      <td>1730</td>\n",
       "      <td>10</td>\n",
       "      <td>1</td>\n",
       "      <td>30</td>\n",
       "      <td>logistic</td>\n",
       "      <td>10000.0000</td>\n",
       "      <td>0.802000</td>\n",
       "      <td>6.253907</td>\n",
       "      <td>0.8065</td>\n",
       "    </tr>\n",
       "    <tr>\n",
       "      <th>3</th>\n",
       "      <td>1731</td>\n",
       "      <td>10</td>\n",
       "      <td>1</td>\n",
       "      <td>30</td>\n",
       "      <td>tanh</td>\n",
       "      <td>0.0001</td>\n",
       "      <td>0.926333</td>\n",
       "      <td>22.267032</td>\n",
       "      <td>0.8854</td>\n",
       "    </tr>\n",
       "    <tr>\n",
       "      <th>4</th>\n",
       "      <td>1732</td>\n",
       "      <td>10</td>\n",
       "      <td>1</td>\n",
       "      <td>30</td>\n",
       "      <td>tanh</td>\n",
       "      <td>1.0000</td>\n",
       "      <td>0.910000</td>\n",
       "      <td>22.207077</td>\n",
       "      <td>0.8725</td>\n",
       "    </tr>\n",
       "    <tr>\n",
       "      <th>...</th>\n",
       "      <td>...</td>\n",
       "      <td>...</td>\n",
       "      <td>...</td>\n",
       "      <td>...</td>\n",
       "      <td>...</td>\n",
       "      <td>...</td>\n",
       "      <td>...</td>\n",
       "      <td>...</td>\n",
       "      <td>...</td>\n",
       "    </tr>\n",
       "    <tr>\n",
       "      <th>8625</th>\n",
       "      <td>29563</td>\n",
       "      <td>90</td>\n",
       "      <td>10</td>\n",
       "      <td>210</td>\n",
       "      <td>logistic</td>\n",
       "      <td>1.0000</td>\n",
       "      <td>0.100000</td>\n",
       "      <td>30.609275</td>\n",
       "      <td>0.0974</td>\n",
       "    </tr>\n",
       "    <tr>\n",
       "      <th>8626</th>\n",
       "      <td>29564</td>\n",
       "      <td>90</td>\n",
       "      <td>10</td>\n",
       "      <td>210</td>\n",
       "      <td>logistic</td>\n",
       "      <td>10000.0000</td>\n",
       "      <td>0.100000</td>\n",
       "      <td>152.781862</td>\n",
       "      <td>0.0958</td>\n",
       "    </tr>\n",
       "    <tr>\n",
       "      <th>8627</th>\n",
       "      <td>29565</td>\n",
       "      <td>90</td>\n",
       "      <td>10</td>\n",
       "      <td>210</td>\n",
       "      <td>tanh</td>\n",
       "      <td>0.0001</td>\n",
       "      <td>0.999741</td>\n",
       "      <td>608.635419</td>\n",
       "      <td>0.9586</td>\n",
       "    </tr>\n",
       "    <tr>\n",
       "      <th>8628</th>\n",
       "      <td>29566</td>\n",
       "      <td>90</td>\n",
       "      <td>10</td>\n",
       "      <td>210</td>\n",
       "      <td>tanh</td>\n",
       "      <td>1.0000</td>\n",
       "      <td>0.999667</td>\n",
       "      <td>667.529777</td>\n",
       "      <td>0.9548</td>\n",
       "    </tr>\n",
       "    <tr>\n",
       "      <th>8629</th>\n",
       "      <td>29567</td>\n",
       "      <td>90</td>\n",
       "      <td>10</td>\n",
       "      <td>210</td>\n",
       "      <td>tanh</td>\n",
       "      <td>10000.0000</td>\n",
       "      <td>0.100000</td>\n",
       "      <td>82.802846</td>\n",
       "      <td>0.0980</td>\n",
       "    </tr>\n",
       "  </tbody>\n",
       "</table>\n",
       "<p>8630 rows × 9 columns</p>\n",
       "</div>"
      ],
      "text/plain": [
       "      Unnamed: 0  partition  layer_num  neurona_num activation       alpha  \\\n",
       "0           1728         10          1           30   logistic      0.0001   \n",
       "1           1729         10          1           30   logistic      1.0000   \n",
       "2           1730         10          1           30   logistic  10000.0000   \n",
       "3           1731         10          1           30       tanh      0.0001   \n",
       "4           1732         10          1           30       tanh      1.0000   \n",
       "...          ...        ...        ...          ...        ...         ...   \n",
       "8625       29563         90         10          210   logistic      1.0000   \n",
       "8626       29564         90         10          210   logistic  10000.0000   \n",
       "8627       29565         90         10          210       tanh      0.0001   \n",
       "8628       29566         90         10          210       tanh      1.0000   \n",
       "8629       29567         90         10          210       tanh  10000.0000   \n",
       "\n",
       "      train_accuracy  training_time  test_accuracy  \n",
       "0           0.927833      23.156492         0.8789  \n",
       "1           0.950167      21.880265         0.8949  \n",
       "2           0.802000       6.253907         0.8065  \n",
       "3           0.926333      22.267032         0.8854  \n",
       "4           0.910000      22.207077         0.8725  \n",
       "...              ...            ...            ...  \n",
       "8625        0.100000      30.609275         0.0974  \n",
       "8626        0.100000     152.781862         0.0958  \n",
       "8627        0.999741     608.635419         0.9586  \n",
       "8628        0.999667     667.529777         0.9548  \n",
       "8629        0.100000      82.802846         0.0980  \n",
       "\n",
       "[8630 rows x 9 columns]"
      ]
     },
     "execution_count": 2,
     "metadata": {},
     "output_type": "execute_result"
    }
   ],
   "source": [
    "d = pd.read_csv(\"../lbfgs_crudo.csv\")\n",
    "d"
   ]
  },
  {
   "cell_type": "code",
   "execution_count": 27,
   "metadata": {},
   "outputs": [
    {
     "name": "stdout",
     "output_type": "stream",
     "text": [
      "la distribucion de los resultados utilizando el 10 porciento de entrenamiento es no normal\n",
      "la distribucion de los resultados utilizando el 20 porciento de entrenamiento es no normal\n",
      "la distribucion de los resultados utilizando el 30 porciento de entrenamiento es no normal\n",
      "la distribucion de los resultados utilizando el 40 porciento de entrenamiento es no normal\n",
      "la distribucion de los resultados utilizando el 50 porciento de entrenamiento es no normal\n",
      "la distribucion de los resultados utilizando el 60 porciento de entrenamiento es no normal\n",
      "la distribucion de los resultados utilizando el 70 porciento de entrenamiento es no normal\n",
      "la distribucion de los resultados utilizando el 80 porciento de entrenamiento es no normal\n",
      "la distribucion de los resultados utilizando el 90 porciento de entrenamiento es no normal\n"
     ]
    }
   ],
   "source": [
    "part=dict()\n",
    "for i in d.partition.unique():\n",
    "    part[str(i)]=d.test_accuracy[d.partition==i]\n",
    "    s,p = shapiro(part[str(i)])\n",
    "    if p>0.05:\n",
    "        print('la distribucion de los resultados utilizando el {} porciento de entrenamiento es normal'.format(i))\n",
    "    else:\n",
    "        print('la distribucion de los resultados utilizando el {} porciento de entrenamiento es no normal'.format(i))"
   ]
  },
  {
   "cell_type": "code",
   "execution_count": 42,
   "metadata": {},
   "outputs": [
    {
     "name": "stdout",
     "output_type": "stream",
     "text": [
      "la distribucion de los resultados utilizando 1 capas de entrenamiento es no normal\n",
      "la distribucion de los resultados utilizando 4 capas de entrenamiento es no normal\n",
      "la distribucion de los resultados utilizando 7 capas de entrenamiento es no normal\n",
      "la distribucion de los resultados utilizando 10 capas de entrenamiento es no normal\n"
     ]
    }
   ],
   "source": [
    "capas=dict()\n",
    "for i in d.layer_num.unique():\n",
    "    capas[str(i)]=d.test_accuracy[d.layer_num==i]\n",
    "    s,p = shapiro(capas[str(i)])\n",
    "    if p>0.05:\n",
    "        print('la distribucion de los resultados utilizando {} capas de entrenamiento es normal'.format(i))\n",
    "    else:\n",
    "        print('la distribucion de los resultados utilizando {} capas de entrenamiento es no normal'.format(i))"
   ]
  },
  {
   "cell_type": "code",
   "execution_count": 45,
   "metadata": {},
   "outputs": [
    {
     "name": "stdout",
     "output_type": "stream",
     "text": [
      "la distribucion de los resultados utilizando 30 neuronas por capa en el entrenamiento es no normal\n",
      "la distribucion de los resultados utilizando 90 neuronas por capa en el entrenamiento es no normal\n",
      "la distribucion de los resultados utilizando 150 neuronas por capa en el entrenamiento es no normal\n",
      "la distribucion de los resultados utilizando 210 neuronas por capa en el entrenamiento es no normal\n"
     ]
    }
   ],
   "source": [
    "neuronas=dict()\n",
    "for i in d.neurona_num.unique():\n",
    "    neuronas[str(i)]=d.test_accuracy[d.neurona_num==i]\n",
    "    s,p = shapiro(neuronas[str(i)])\n",
    "    if p>0.05:\n",
    "        print('la distribucion de los resultados utilizando {} neuronas por capa en el entrenamiento es normal'.format(i))\n",
    "    else:\n",
    "        print('la distribucion de los resultados utilizando {} neuronas por capa en el entrenamiento es no normal'.format(i))"
   ]
  },
  {
   "cell_type": "code",
   "execution_count": 46,
   "metadata": {},
   "outputs": [
    {
     "name": "stdout",
     "output_type": "stream",
     "text": [
      "la distribucion de los resultados utilizando alpha=0.0001 en el entrenamiento es no normal\n",
      "la distribucion de los resultados utilizando alpha=1.0 en el entrenamiento es no normal\n",
      "la distribucion de los resultados utilizando alpha=10000.0 en el entrenamiento es no normal\n"
     ]
    }
   ],
   "source": [
    "alfas=dict()\n",
    "for i in d.alpha.unique():\n",
    "    alfas[str(i)]=d.test_accuracy[d.alpha==i]\n",
    "    s,p = shapiro(alfas[str(i)])\n",
    "    if p>0.05:\n",
    "        print('la distribucion de los resultados utilizando alpha={} en el entrenamiento es normal'.format(i))\n",
    "    else:\n",
    "        print('la distribucion de los resultados utilizando alpha={} en el entrenamiento es no normal'.format(i))"
   ]
  },
  {
   "cell_type": "markdown",
   "metadata": {},
   "source": [
    "Al tomar en cuenta solo los niveles de un factor a la vez (tomando todos los niveles de los demás factores), se obtiene que **ningún conjunto de datos presenta una distribución normal**. Con esta observación la prueba a aplicar es la **kruskal** la cual infiere diferencias significativas entre conjuntos de datos que no tienen una distribución normal."
   ]
  },
  {
   "cell_type": "code",
   "execution_count": 40,
   "metadata": {},
   "outputs": [
    {
     "name": "stdout",
     "output_type": "stream",
     "text": [
      "hay diferencia para particiones\n",
      "hay diferencia para numero_capas\n",
      "hay diferencia para numero_neuronas\n",
      "hay diferencia para alpha\n",
      "hay diferencia para activacion\n"
     ]
    }
   ],
   "source": [
    "niv={'particiones': [g[1].test_accuracy for g in d.groupby(['partition'])],\n",
    "    'numero_capas': [g[1].test_accuracy for g in d.groupby(['layer_num'])],\n",
    "    'numero_neuronas': [g[1].test_accuracy for g in d.groupby(['neurona_num'])],\n",
    "    'alpha': [g[1].test_accuracy for g in d.groupby(['alpha'])],\n",
    "    'activacion': [g[1].test_accuracy for g in d.groupby(['activation'])]}\n",
    "\n",
    "print('\\n'.join([(\"insufientes datos\" if min([len(x) for x in niv[d]]) < 5 else \\\n",
    "                  \"sin diferencia\" if kruskal(*niv[d])[1] > a else \"hay diferencia\") +  \\\n",
    "                 \" para \" +  d for d in niv]))"
   ]
  },
  {
   "cell_type": "markdown",
   "metadata": {},
   "source": [
    "Los resultados de la prueba kruskel, es que al menos un par de niveles en cada uno de ls factores presenta diferencia significativa. **Esto quiere decir que en cada factor existe al menos 2 niveles que tienen un efecto sobre la precisión de evaluación**. En lugar de hacer una prueba para cada par posible de niveles de cada factor, se calcula la correlación de cada factor con la precisión de evaluación y de esta forma “*estimar*” el efecto que tiene cada factor sobre la precisión de evaluación."
   ]
  },
  {
   "cell_type": "code",
   "execution_count": 47,
   "metadata": {},
   "outputs": [
    {
     "name": "stdout",
     "output_type": "stream",
     "text": [
      "la correlacion entre la presision y el porcentaje de entrenamiento es de 0.014833048738554502\n",
      "la correlacion entre la presision y el las capas de entrenamiento es de -0.4479539211276514\n",
      "la correlacion entre la presision y el numero de neuronas de entrenamiento es de 0.01904899528556452\n",
      "la correlacion entre la presision y el alpha de entrenamiento es de -0.3596427205097238\n"
     ]
    }
   ],
   "source": [
    "print('la correlacion entre la presision y el porcentaje de entrenamiento es de {}'.format(d.test_accuracy.corr(d.partition)))\n",
    "print('la correlacion entre la presision y el las capas de entrenamiento es de {}'.format(d.test_accuracy.corr(d.layer_num)))\n",
    "print('la correlacion entre la presision y el numero de neuronas de entrenamiento es de {}'.format(d.test_accuracy.corr(d.neurona_num)))\n",
    "print('la correlacion entre la presision y el alpha de entrenamiento es de {}'.format(d.test_accuracy.corr(d.alpha)))"
   ]
  },
  {
   "cell_type": "markdown",
   "metadata": {},
   "source": [
    "Como se observa en la parte superior el factor partición **afecta de manera positiva la precisión de evaluación, aunque la razón de cambio es despreciable**. En cambio, los factores de capas ocultas y alpha presentan una correlación mas fuerte, es decir la **precisión de evaluación es más susceptible a los cambios de estos parámetros**, aunque en este caso la razón de cambio es negativa, por lo tanto, a medida que aumentan estos parámetros la precisión disminuye. Por ultimo el numero de neuronas tiene una correlación baja al igual que el factor de partición. Es importante mencionar que estas observaciones concuerdan con las conclusiones de las practicas pasadas.\n",
    "\n",
    "Para poder ver gráficamente como afecta cada uno de los niveles a la precisión de evaluación, se ajusta una regresión lineal entre el **número de capas y la precisión de evaluación**, y otra regresión entre **alpha y la precisión de evaluación**, se escogen estos dos factores porque son los que presentan una correlación mayor."
   ]
  },
  {
   "cell_type": "code",
   "execution_count": 58,
   "metadata": {},
   "outputs": [
    {
     "name": "stdout",
     "output_type": "stream",
     "text": [
      "y = f(x) = -0.0555 x + 0.8216\n",
      "error 0.0011931588976163855\n",
      "valor p 0.0\n",
      "pendiente significativo\n",
      "R^2 0.20066271545363815\n"
     ]
    },
    {
     "data": {
      "image/png": "[encoded data removed]",
      "text/plain": [
       "<matplotlib.figure.Figure at 0x280c396fb00>"
      ]
     },
     "metadata": {},
     "output_type": "display_data"
    }
   ],
   "source": [
    "a,b,r,p,e=stats.linregress(d.layer_num, d.test_accuracy)\n",
    "print(\"y = f(x) = {:.4f} x + {:.4f}\".format(a, b))\n",
    "print(\"error\", e)\n",
    "print(\"valor p\", p)\n",
    "print(\"pendiente {:s}significativo\".format(\"no \" if p >= 0.05 else \"\"))\n",
    "print(\"R^2\", r**2)\n",
    "\n",
    "plt.plot(d.layer_num, (a * d.layer_num + b), label = 'y = {:.1f}x + {:.0f}'.format(a, b), color = 'red', linewidth = 3)\n",
    "plt.scatter(d.layer_num, d.test_accuracy)\n",
    "plt.legend(loc='lower left')\n",
    "plt.xlabel(\"número de capas\")\n",
    "plt.ylabel(\"precisión\")\n",
    "plt.show()"
   ]
  },
  {
   "cell_type": "code",
   "execution_count": 67,
   "metadata": {},
   "outputs": [
    {
     "name": "stdout",
     "output_type": "stream",
     "text": [
      "y = f(x) = -0.0000 x + 0.6221\n",
      "error 8.860244025138363e-07\n",
      "valor p 7.557529557126648e-262\n",
      "pendiente significativo\n",
      "R^2 0.12934288641563535\n"
     ]
    },
    {
     "data": {
      "image/png": "[encoded data removed]",
      "text/plain": [
       "<matplotlib.figure.Figure at 0x280c25cde80>"
      ]
     },
     "metadata": {},
     "output_type": "display_data"
    }
   ],
   "source": [
    "a,b,r,p,e=stats.linregress(d.alpha, d.test_accuracy)\n",
    "print(\"y = f(x) = {:.4f} x + {:.4f}\".format(a, b))\n",
    "print(\"error\", e)\n",
    "print(\"valor p\", p)\n",
    "print(\"pendiente {:s}significativo\".format(\"no \" if p >= 0.05 else \"\"))\n",
    "print(\"R^2\", r**2)\n",
    "\n",
    "plt.plot(d.alpha, (a * d.alpha + b), label = 'y = {:.1f}x + {:.0f}'.format(a, b), color = 'red', linewidth = 3)\n",
    "plt.scatter(d.alpha, d.test_accuracy)\n",
    "plt.legend(loc='lower left')\n",
    "plt.xlabel(\"alpha\")\n",
    "plt.xscale('log')\n",
    "plt.ylabel(\"precisión\")\n",
    "plt.show()"
   ]
  },
  {
   "cell_type": "code",
   "execution_count": 68,
   "metadata": {},
   "outputs": [
    {
     "name": "stdout",
     "output_type": "stream",
     "text": [
      "y = f(x) = 0.0001 x + 0.5022\n",
      "error 6.67399401267327e-05\n",
      "valor p 0.0768081640729033\n",
      "pendiente no significativo\n",
      "R^2 0.0003628642213894593\n"
     ]
    },
    {
     "data": {
      "image/png": "[encoded data removed]",
      "text/plain": [
       "<matplotlib.figure.Figure at 0x280c3a29128>"
      ]
     },
     "metadata": {},
     "output_type": "display_data"
    }
   ],
   "source": [
    "a,b,r,p,e=stats.linregress(d.neurona_num, d.test_accuracy)\n",
    "print(\"y = f(x) = {:.4f} x + {:.4f}\".format(a, b))\n",
    "print(\"error\", e)\n",
    "print(\"valor p\", p)\n",
    "print(\"pendiente {:s}significativo\".format(\"no \" if p >= 0.05 else \"\"))\n",
    "print(\"R^2\", r**2)\n",
    "\n",
    "plt.plot(d.neurona_num, (a * d.neurona_num + b), label = 'y = {:.1f}x + {:.0f}'.format(a, b), color = 'red', linewidth = 3)\n",
    "plt.scatter(d.neurona_num, d.test_accuracy)\n",
    "plt.legend(loc='lower left')\n",
    "plt.xlabel(\"número de neuronas\")\n",
    "plt.ylabel(\"precisión\")\n",
    "plt.show()"
   ]
  },
  {
   "cell_type": "markdown",
   "metadata": {},
   "source": [
    "Hay varios aspectos importantes que se pueden inferir de las regresiones anteriores, la primera es que todas las graficas presentan una especie de **agrupación en cada nivel del factor** y estas agrupaciones se forman en tres regiones de precisión de evaluación que bien podrían ser nombradas buena, regular y mala. El fenómeno anterior se debe a los niveles de los factores restantes, indicando que la combinación de factores juega un papel importante. Otra observación es que **los datos presentan un comportamiento no lineal, por lo que necesarios hacer regresiones con otro tipo de familias de funciones**. Por las practicas pasadas se sabe que los factores numero de capas y numero de neuronas son los factores que más afectan a la precisión de evaluación, por lo tanto, queda abierta la pregunta para la siguiente practica de ajuste de regresión múltiple.  "
   ]
  }
 ],
 "metadata": {
  "kernelspec": {
   "display_name": "Python 3",
   "language": "python",
   "name": "python3"
  },
  "language_info": {
   "codemirror_mode": {
    "name": "ipython",
    "version": 3
   },
   "file_extension": ".py",
   "mimetype": "text/x-python",
   "name": "python",
   "nbconvert_exporter": "python",
   "pygments_lexer": "ipython3",
   "version": "3.6.3"
  }
 },
 "nbformat": 4,
 "nbformat_minor": 2
}
