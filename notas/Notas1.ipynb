{
 "cells": [
  {
   "cell_type": "markdown",
   "metadata": {},
   "source": [
    "## Guía básica de Python y librerías para inteligencia artificial\n",
    "\n",
    "#### Creada para el moduló de inteligencia artificial del Programa Técnico en Industria Inteligente\n",
    "#### Autores:\n",
    "##### Coordinación de Educación Continua, Facultad de Ingeniería Mecánica y Eléctrica, Universidad Autónoma de Nuevo León\n",
    "##### Alan Arnoldo Alcantar Gómez, Facultad de Ingeniería Mecánica y Eléctrica, Universidad Autónoma de Nuevo León\n"
   ]
  },
  {
   "cell_type": "markdown",
   "metadata": {},
   "source": [
    "# 0. basícos de Python"
   ]
  },
  {
   "cell_type": "markdown",
   "metadata": {},
   "source": [
    "* Un carácter se define por comillas ```''``` y dentro de estas puede haber números, letras y símbolos especiales.\n",
    "* Una lista se define por paréntesis cuadrados ```[]``` y dentro de ellos puede haber números y caracteres separados por comas ```,```\n",
    "* El símbolo ```#``` permite agregar comentarios al código \n",
    "* Cualquier información se guarda en variables (siempre debe iniciar con letra) y la información se guarda en una variable con el símbolo ```=```\n"
   ]
  },
  {
   "cell_type": "markdown",
   "metadata": {},
   "source": [
    "# 1. NumPy \n",
    "* [Sitio web oficial](https://numpy.org/)\n",
    "* [Tutorial para principiantes](https://numpy.org/devdocs/user/absolute_beginners.html)"
   ]
  },
  {
   "cell_type": "markdown",
   "metadata": {},
   "source": [
    "NumPy (Numerical Python) es una biblioteca de Python de código abierto que se utiliza en casi todos los campos de la ciencia y la ingeniería. Es el estándar universal para trabajar con datos numéricos en Python, y está en el núcleo de los ecosistemas científicos de Python. NumPy se puede usar para realizar una amplia variedad de operaciones matemáticas en matrices. Agrega potentes estructuras de datos a Python que garantizan cálculos eficientes con **vectores y matrices** y proporciona una enorme biblioteca de funciones matemáticas de alto nivel que operan en estos vectores y matrices."
   ]
  },
  {
   "cell_type": "markdown",
   "metadata": {},
   "source": [
    "Para utilizar las estructuras de NumPy primero se debe importar con la siguiente instrucción ```import numpy as np```"
   ]
  },
  {
   "cell_type": "code",
   "execution_count": 1,
   "metadata": {},
   "outputs": [],
   "source": [
    "import numpy as np"
   ]
  },
  {
   "cell_type": "markdown",
   "metadata": {},
   "source": [
    "##   1.1 Creación de un vector y matriz NumPy"
   ]
  },
  {
   "cell_type": "markdown",
   "metadata": {},
   "source": [
    "Para crear desde cero un vector NumPy se utilizan las siguientes instrucciones: \n",
    "* ```np.array()``` crear un vector NumPy vacío\n",
    "* ```np.array([ elemento_1, elemente_2, … , elemento_n])``` crea un vector NumPy compuesto por los elementos dentro de los corchetes cuadrados ```[]``` y que están separados por comas ```,```\n"
   ]
  },
  {
   "cell_type": "code",
   "execution_count": 2,
   "metadata": {},
   "outputs": [
    {
     "name": "stdout",
     "output_type": "stream",
     "text": [
      "[]\n",
      "[1 2 3]\n"
     ]
    }
   ],
   "source": [
    "vector_vacio = np.array([])\n",
    "vector_no_vacio = np.array([1,2,3])\n",
    "print(vector_vacio)\n",
    "print(vector_no_vacio)"
   ]
  },
  {
   "cell_type": "markdown",
   "metadata": {},
   "source": [
    "<img src=\"figuras/creacion_numpy.png\" width=400>"
   ]
  },
  {
   "cell_type": "markdown",
   "metadata": {},
   "source": [
    "## 1.2 Generando vectores y matrices NumPy de forma automática"
   ]
  },
  {
   "cell_type": "markdown",
   "metadata": {},
   "source": [
    "Anteriormente se vio como crear un vector o matriz NumPy vacíos o ingresando a mano cada uno de los elementos. Existen métodos que permiten crear vectores y matrices NumPy con características particulares de forma automática, por ejemplo:\n",
    "* ```np.zeros(numero_elementos)``` Crea un vector compuesto solo por ceros y el número de elementos del vector es dado por ```numero_elementos```\n",
    "* ```np.ones(numero_elementos)``` Crea un vector compuesto solo por unos y el número de elementos del vector es dado por ```numero_elementos```\n",
    "* ```np.arange(inicio , fin , paso)``` crea un vector cuyo primer elemento es ```inicio``` y avanza dando brincos de tamaño ```paso``` hasta llegar al número ```fin-1```\n",
    "* ```np.linspace(inicio , fin , k)``` divide el intervalo cerrado ```[inicio,fin]``` en ```k``` pedazos espaciados uniformemente"
   ]
  },
  {
   "cell_type": "code",
   "execution_count": 3,
   "metadata": {},
   "outputs": [
    {
     "name": "stdout",
     "output_type": "stream",
     "text": [
      "[1. 1. 1. 1.]\n",
      "[0. 0. 0. 0.]\n",
      "[5 6 7 8]\n",
      "[0.  0.5 1.  1.5 2. ]\n"
     ]
    }
   ],
   "source": [
    "unos = np.ones(4)\n",
    "ceros = np.zeros(4)\n",
    "rango = np.arange(5,9,1)\n",
    "trozos = np.linspace(0,2,5)\n",
    "print(unos)\n",
    "print(ceros)\n",
    "print(rango)\n",
    "print(trozos)"
   ]
  },
  {
   "cell_type": "markdown",
   "metadata": {},
   "source": [
    "<img src=\"figuras/genera_numpy.png\" width=500>"
   ]
  },
  {
   "cell_type": "markdown",
   "metadata": {},
   "source": [
    "En las secciones 1.1 y 1.2 se mencionan la manera de crear vectores NumPy que se necesitan en el curso, sin embargo, hay más opciones para crear vectores NumPy. La siguiente liga lleva al sitio oficial de NumPy que muestra todas las formas en que se pueden crear vectores y matrices NumPy: [creación de vectores y matrices NumPy]( https://numpy.org/devdocs/reference/routines.array-creation.html)"
   ]
  },
  {
   "cell_type": "markdown",
   "metadata": {},
   "source": [
    "## 1.3 Generando vectores y matrices NumPy de forma aleatoria o usando una distribución de probabilidad"
   ]
  },
  {
   "cell_type": "markdown",
   "metadata": {},
   "source": [
    "Existen ocasiones en las que se desea tener vectores y matrices compuestos por elementos que fueron elegidos de forma aleatoria o fueron elegidos por medio de una distribución de probabilidad, para ello NumPy tiene muchos métodos en su [página oficial]( https://numpy.org/devdocs/reference/random/generator.html#numpy.random.Generator), aquí solo veremos los que se utilizaran en el curso:\n",
    "* ```np.random.randint(low = #inferior, high = #superior, size= k)``` Crea un vector NumPy compuesto de ```k``` elementos. los cuales son números enteros entre el intervalo ```[#inferior , #superior]``` \n",
    "* ```np.random.choice(lista_poblacion , size = k, replace = bool)``` Crea un vector NumPy al tomar ```k``` elementos de la lista ```lista_poblacion``` de forma aleatoria, ```bool``` puede ser ```True``` o ```False``` y se refiere a poder tomar dos o mas veces el mismo elemento.\n",
    "* ```np.random.random(size = k)``` Crea un vector NumPy de ```k``` elementos cada uno diferente con un valor entre 0 y 1\n",
    "* ```np.random.normal(loc = valor_media , scale = valor_desviacion , size = k)``` Crea un vector NumPy de ```k``` elementos tomados de una distribución de probabilidad normal con media en ```valor_media``` y desviación estándar de ```valor_desviacion```"
   ]
  },
  {
   "cell_type": "code",
   "execution_count": 25,
   "metadata": {},
   "outputs": [
    {
     "name": "stdout",
     "output_type": "stream",
     "text": [
      "[23 56 71]\n",
      "[50 35 30]\n",
      "[0.56 0.97 0.07]\n",
      "[2.99 7.57 8.8 ]\n"
     ]
    }
   ],
   "source": [
    "enteros = np.random.randint(low=20,high=80,size=3)\n",
    "seleccion = np.random.choice(np.arange(20,80,5),size=3,replace=False)\n",
    "aleatorio = np.random.random(size=3)\n",
    "normal = np.random.normal(loc=7,scale=2,size=3)\n",
    "print(enteros)\n",
    "print(seleccion)\n",
    "print(aleatorio)\n",
    "print(normal)"
   ]
  },
  {
   "cell_type": "markdown",
   "metadata": {},
   "source": [
    "<img src=\"figuras/aleatorio_numpy.png\" width=700>"
   ]
  },
  {
   "cell_type": "markdown",
   "metadata": {},
   "source": [
    "## 1.4 Indexación"
   ]
  },
  {
   "cell_type": "markdown",
   "metadata": {},
   "source": [
    "A la acción de indexar se refiere a acceder a elementos de un vector NumPy dada la posición de los elementos. Si se tiene un vector NumPy y se desea acceder al elemento que está en la posición ```k``` es necesario poner la posición entre paréntesis cuadrados, es decir ```[k]```, justo después del vector NumPy. Una característica de Python es que la primera posición de la lista tiene el índice 0 y a partir de este se recorre.\n",
    "También es posible acceder a dos o mas elementos de un vector NumPy al mismo tiempo de la siguiente manera:\n",
    "* ```[:k]``` Son los elementos desde el inicio hasta la posición ```k-1```\n",
    "* ```[k:]``` Son los elementos desde la posición ```k``` hasta el final\n",
    "* ```[k:m]``` Son los elementos desde la posición ```k``` hasta la posición ```m-1```\n",
    "* ```[k:m:n]``` Son los elementos desde la posición ```k``` hasta la posición ```m-1``` en brincos de ```n```\n",
    "* ```[lista_posiciones]``` En este caso se especifican todos los elementos que se quieren dando las posiciones en una lista\n",
    "\n",
    "Para mayor información sobre indexación consultar el siguiente [enlace](https://numpy.org/devdocs/reference/arrays.indexing.html)"
   ]
  },
  {
   "cell_type": "code",
   "execution_count": 30,
   "metadata": {},
   "outputs": [
    {
     "name": "stdout",
     "output_type": "stream",
     "text": [
      "0.0\n",
      "0.5\n",
      "1.0\n",
      "1.5\n",
      "2.0\n",
      "[0.  0.5]\n",
      "[1.5 2. ]\n",
      "[0.5 1.  1.5]\n",
      "[0. 1. 2.]\n",
      "[1.  1.5 2. ]\n",
      "[0.  1.  1.5]\n"
     ]
    }
   ],
   "source": [
    "print(trozos[0])\n",
    "print(trozos[1])\n",
    "print(trozos[2])\n",
    "print(trozos[3])\n",
    "print(trozos[4])\n",
    "print(trozos[:2])\n",
    "print(trozos[3:])\n",
    "print(trozos[1:4])\n",
    "print(trozos[0:5:2])\n",
    "print(trozos[-3:])\n",
    "print(trozos[[0,2,3]])"
   ]
  },
  {
   "cell_type": "markdown",
   "metadata": {},
   "source": [
    "<img src=\"figuras/indice_numpy.png\" width=500>"
   ]
  },
  {
   "cell_type": "markdown",
   "metadata": {},
   "source": [
    "En caso de querer cambiar el valor en la posición ```k``` de un vector NumPy basta con usar la indexación y guardar el nuevo valor, es decir, ```trozos[k] = nuevo_valor```"
   ]
  },
  {
   "cell_type": "code",
   "execution_count": 52,
   "metadata": {},
   "outputs": [
    {
     "name": "stdout",
     "output_type": "stream",
     "text": [
      "[0.  0.5 5.  8.  9. ]\n"
     ]
    }
   ],
   "source": [
    "trozos[2] = 5\n",
    "trozos[-2:] = [8,9]\n",
    "print(trozos)"
   ]
  },
  {
   "cell_type": "markdown",
   "metadata": {},
   "source": [
    "## 1.5 Manipulación de vectores NumPy"
   ]
  },
  {
   "cell_type": "markdown",
   "metadata": {},
   "source": [
    "Los vectores NumPy son objetos que se pueden modificar, a continuación, se mencionan las operaciones que serán utilizadas en el curso, en caso que se desee revisar todas las manipulaciones que se le pueden hacer a un vector NumPy en este [enlace]( https://numpy.org/devdocs/reference/routines.array-manipulation.html).\n",
    "* ```np.delete(vector_NumPy, k)``` Elimina el elemento que esta en la posición ```k``` del ```vector_NumPy```\n",
    "* ```np.insert(vector_NumPy, k, m)``` Inserta el elemento ```m``` en la posición ```k``` del ```vector_NumPy```\n",
    "* ```np.append(vector_NumPy, m)``` Agrega en elemento ```m``` al final del ```vector_NumPy```\n",
    "* ```np.unique(vector_NumPy)``` Regresa los elementos únicos del ```vector_NumPy```"
   ]
  },
  {
   "cell_type": "code",
   "execution_count": 41,
   "metadata": {},
   "outputs": [
    {
     "name": "stdout",
     "output_type": "stream",
     "text": [
      "[-7  3]\n",
      "[ 3  5 -7  3]\n",
      "[ 3 -7  3  8]\n",
      "[-7  3]\n",
      "[ 3 -7  3]\n"
     ]
    }
   ],
   "source": [
    "vector = np.array([3,-7,3])\n",
    "print(np.delete(vector,0))\n",
    "print(np.insert(vector,1,5))\n",
    "print(np.append(vector,8))\n",
    "print(np.unique(vector))\n",
    "print(vector)"
   ]
  },
  {
   "cell_type": "markdown",
   "metadata": {},
   "source": [
    "<img src=\"figuras/manipulacion_numpy.png\" width=400>"
   ]
  },
  {
   "cell_type": "markdown",
   "metadata": {},
   "source": [
    "Este tipo de métodos que manipulan un vector NumPy hacen la operación sobre una copia del vector NumPy, por eso a pesar de haber hecho varias modificaciones a ```vector``` cuando se imprime al final este pareciera que no sufrió ningún cambio. Para que se quede guardado el cambio es necesario guardar la operación sobre el mismo ```vector```, es decir, ```vector = np.append(vector,8)```\n",
    "\n"
   ]
  },
  {
   "cell_type": "markdown",
   "metadata": {},
   "source": [
    "## 1.6 Aritmética y funciones matemáticas"
   ]
  },
  {
   "cell_type": "markdown",
   "metadata": {},
   "source": [
    "La importancia de NumPy recae en la eficiencia para realizar [operaciones vectoriales y matriciales]( https://numpy.org/devdocs/reference/routines.linalg.html), a continuación, veremos las operaciones aritméticas básicas y [funciones especiales]( https://numpy.org/devdocs/reference/routines.math.html). \n",
    "\n",
    "Las operaciones aritméticas tienen la condición de que solo se pueden utilizar cuando todos los vectores NumPy involucrados tienen la misma cantidad de elementos o que la operación involucre un vector NumPy con un escalar (un número). A continuación, se muestras los ejemplos entre dos vectores NumPy para las operaciones aritméticas básicas, es decir, suma ```+```, resta ```-```, multiplicación ```*```, división ```/``` y potencia ```**```"
   ]
  },
  {
   "cell_type": "code",
   "execution_count": 43,
   "metadata": {},
   "outputs": [
    {
     "name": "stdout",
     "output_type": "stream",
     "text": [
      "[ 6  8 10]\n",
      "[4 4 4]\n",
      "[ 5 12 21]\n",
      "[5.         3.         2.33333333]\n",
      "[  5  36 343]\n",
      "[25 30 35]\n"
     ]
    }
   ],
   "source": [
    "lista1=np.arange(5,8)\n",
    "lista2=np.arange(1,4)\n",
    "\n",
    "print(lista1+lista2)\n",
    "print(lista1-lista2)\n",
    "print(lista1*lista2)\n",
    "print(lista1/lista2)\n",
    "print(lista1**lista2)\n",
    "print(lista1*5)"
   ]
  },
  {
   "cell_type": "markdown",
   "metadata": {},
   "source": [
    "<img src=\"figuras/aritme_numpy.png\" width=1000> "
   ]
  },
  {
   "cell_type": "markdown",
   "metadata": {},
   "source": [
    "En la figura de arriba queda bastante claro porque cuando hay operaciones que involucran vectores NumPy requieren que estos tengan la misma cantidad de elementos y cuando se multiplica un vector NumPy con un escalar, este se toma como si fuera un vector NumPy.\n",
    "\n",
    "Las funciones especiales son la **raíz cuadrada, logaritmo, exponencial, trigonométricas, hiperbólicas y otras**. Solo para ilustrar como funcionan en la siguiente celda se muestran algunas."
   ]
  },
  {
   "cell_type": "code",
   "execution_count": 49,
   "metadata": {},
   "outputs": [
    {
     "name": "stdout",
     "output_type": "stream",
     "text": [
      "[2.23606798 2.44948974 2.64575131]\n",
      "[ 148.4131591   403.42879349 1096.63315843]\n",
      "[1.60943791 1.79175947 1.94591015]\n",
      "[-0.95892427 -0.2794155   0.6569866 ]\n",
      "18\n",
      "6.0\n"
     ]
    }
   ],
   "source": [
    "print(np.sqrt(lista1))\n",
    "print(np.exp(lista1))\n",
    "print(np.log(lista1))\n",
    "print(np.sin(lista1))\n",
    "print(np.sum(lista1))\n",
    "print(np.mean(lista1))"
   ]
  },
  {
   "cell_type": "markdown",
   "metadata": {},
   "source": [
    "# 2. pandas\n",
    "* [Sitio web oficial](https://pandas.pydata.org/)\n",
    "* [Tutorial para principiantes](https://pandas.pydata.org/docs/getting_started/10min.html#min)"
   ]
  },
  {
   "cell_type": "markdown",
   "metadata": {},
   "source": [
    "pandas es una herramienta de análisis y manipulación de datos de código abierto rápida, potente, flexible y fácil de usar, construida sobre el lenguaje de programación Python.\n",
    "* Agrega a Python la estructura [**DataFrame**](https://pandas.pydata.org/docs/getting_started/intro_tutorials/01_table_oriented.html), la cual es rápida y eficiente para la manipulación de datos con indexación integrada\n",
    "* Herramientas para leer y escribir datos entre estructuras de datos en memoria y diferentes formatos: CSV y archivos de texto, Microsoft Excel, bases de datos SQL y el rápido formato HDF5\n",
    "* Funcionalidad de series de tiempo: generación de rango de fechas y conversión de frecuencia, estadísticas de ventanas móviles, cambio de fecha y retraso.\n",
    "\n",
    "pandas pretende ser el bloque de construcción fundamental de alto nivel para realizar análisis de datos prácticos y reales en Python\n",
    "\n",
    "Para utilizar las estructuras de pandas primero se debe importar con la siguiente instrucción ```import pandas as pd```\n"
   ]
  },
  {
   "cell_type": "code",
   "execution_count": 53,
   "metadata": {},
   "outputs": [],
   "source": [
    "import pandas as pd"
   ]
  },
  {
   "cell_type": "markdown",
   "metadata": {},
   "source": [
    "## 2.1 Creación de un cuadro de datos (DataFrame) pandas"
   ]
  },
  {
   "cell_type": "markdown",
   "metadata": {},
   "source": [
    "Para crear un cuadro de datos desde cero se utilizan las siguientes instrucciones:\n",
    "* ```pd.DataFrame()``` Genera un cuadro de datos pandas vacío\n",
    "* ```pd.DataFrame({'nombre_columna':[elemento_1, elemento_2, ..., elemento_n],})``` Crear un cuadro de datos pandas con una columna cuyo nombre es ```'nombre_columna'``` compuesta por los elementos separados por comas ```,``` dentro de los corchetes cuadrados ```[]``` , el nombre de la columna siempre este separada de la lista de elementos que la forman por ```:``` ."
   ]
  },
  {
   "cell_type": "code",
   "execution_count": 78,
   "metadata": {},
   "outputs": [
    {
     "data": {
      "text/html": [
       "<div>\n",
       "<style scoped>\n",
       "    .dataframe tbody tr th:only-of-type {\n",
       "        vertical-align: middle;\n",
       "    }\n",
       "\n",
       "    .dataframe tbody tr th {\n",
       "        vertical-align: top;\n",
       "    }\n",
       "\n",
       "    .dataframe thead th {\n",
       "        text-align: right;\n",
       "    }\n",
       "</style>\n",
       "<table border=\"1\" class=\"dataframe\">\n",
       "  <thead>\n",
       "    <tr style=\"text-align: right;\">\n",
       "      <th></th>\n",
       "    </tr>\n",
       "  </thead>\n",
       "  <tbody>\n",
       "  </tbody>\n",
       "</table>\n",
       "</div>"
      ],
      "text/plain": [
       "Empty DataFrame\n",
       "Columns: []\n",
       "Index: []"
      ]
     },
     "execution_count": 78,
     "metadata": {},
     "output_type": "execute_result"
    }
   ],
   "source": [
    "datos1 = pd.DataFrame()\n",
    "datos2 = pd.DataFrame( { 'columna1':[1,2,3] , 'columna2':[4,5,6], 'columna3':[7,8,9] } )\n",
    "datos1"
   ]
  },
  {
   "cell_type": "code",
   "execution_count": 79,
   "metadata": {},
   "outputs": [
    {
     "data": {
      "text/html": [
       "<div>\n",
       "<style scoped>\n",
       "    .dataframe tbody tr th:only-of-type {\n",
       "        vertical-align: middle;\n",
       "    }\n",
       "\n",
       "    .dataframe tbody tr th {\n",
       "        vertical-align: top;\n",
       "    }\n",
       "\n",
       "    .dataframe thead th {\n",
       "        text-align: right;\n",
       "    }\n",
       "</style>\n",
       "<table border=\"1\" class=\"dataframe\">\n",
       "  <thead>\n",
       "    <tr style=\"text-align: right;\">\n",
       "      <th></th>\n",
       "      <th>columna1</th>\n",
       "      <th>columna2</th>\n",
       "      <th>columna3</th>\n",
       "    </tr>\n",
       "  </thead>\n",
       "  <tbody>\n",
       "    <tr>\n",
       "      <th>0</th>\n",
       "      <td>1</td>\n",
       "      <td>4</td>\n",
       "      <td>7</td>\n",
       "    </tr>\n",
       "    <tr>\n",
       "      <th>1</th>\n",
       "      <td>2</td>\n",
       "      <td>5</td>\n",
       "      <td>8</td>\n",
       "    </tr>\n",
       "    <tr>\n",
       "      <th>2</th>\n",
       "      <td>3</td>\n",
       "      <td>6</td>\n",
       "      <td>9</td>\n",
       "    </tr>\n",
       "  </tbody>\n",
       "</table>\n",
       "</div>"
      ],
      "text/plain": [
       "   columna1  columna2  columna3\n",
       "0         1         4         7\n",
       "1         2         5         8\n",
       "2         3         6         9"
      ]
     },
     "execution_count": 79,
     "metadata": {},
     "output_type": "execute_result"
    }
   ],
   "source": [
    "datos2"
   ]
  },
  {
   "cell_type": "markdown",
   "metadata": {},
   "source": [
    "Si observa en este caso no se coloco la instrucción ```print()``` para mostrar los datos en pantalla porque la manera en que muestra el cuadro de datos es mejor visualmente, pero tiene el inconveniente que muestra la última instrucción de la celda, por eso una celda termina con ```datos1``` y la otra celda solo esta ```datos2```. Solo en forma de demostración observe que pasa si en una sola celda se escribe ```print(datos1)``` y en el segundo renglón ```print(datos2)```."
   ]
  },
  {
   "cell_type": "markdown",
   "metadata": {},
   "source": [
    "## 2.2 Creación de un cuadro de datos pandas a partir de variables y funciones generadoras"
   ]
  },
  {
   "cell_type": "markdown",
   "metadata": {},
   "source": [
    "Anteriormente se vio como crear un cuadro de datos pandas vacío o ingresando a mano cada uno de los datos. Existe una forma de agregar mas columnas a un cuadro de datos a partir de variables que guardan información o funciones que generan una lista de elementos parecido a NumPy. Existen muchas funciones generadoras, pero aquí solo se muestra la que se utilizara en el curso:\n",
    "* ```pd.DataFrame()['nombre_columna'] = ``` Agrega una columna con nombre ```nombre_columna``` y los elementos que la forman son lo que sea que este del lado derecho del ```=```\n",
    "* ```pd.date_range('año-mes-dia', periods=k, freq='D')``` Crea una lista de ```k``` fechas, empezando en ```año-mes-dia``` y el paso en el tiempo está dado por ```frecuency=''``` donde  dentro de las comillas puede ir ```s```, ```min```, ```h```, ```d```, ```m``` y ```y```.\n"
   ]
  },
  {
   "cell_type": "code",
   "execution_count": 112,
   "metadata": {},
   "outputs": [
    {
     "data": {
      "text/html": [
       "<div>\n",
       "<style scoped>\n",
       "    .dataframe tbody tr th:only-of-type {\n",
       "        vertical-align: middle;\n",
       "    }\n",
       "\n",
       "    .dataframe tbody tr th {\n",
       "        vertical-align: top;\n",
       "    }\n",
       "\n",
       "    .dataframe thead th {\n",
       "        text-align: right;\n",
       "    }\n",
       "</style>\n",
       "<table border=\"1\" class=\"dataframe\">\n",
       "  <thead>\n",
       "    <tr style=\"text-align: right;\">\n",
       "      <th></th>\n",
       "      <th>valores</th>\n",
       "      <th>numpy</th>\n",
       "      <th>fecha</th>\n",
       "    </tr>\n",
       "  </thead>\n",
       "  <tbody>\n",
       "    <tr>\n",
       "      <th>0</th>\n",
       "      <td>5</td>\n",
       "      <td>10</td>\n",
       "      <td>2020-01-01</td>\n",
       "    </tr>\n",
       "    <tr>\n",
       "      <th>1</th>\n",
       "      <td>6</td>\n",
       "      <td>11</td>\n",
       "      <td>2020-01-02</td>\n",
       "    </tr>\n",
       "    <tr>\n",
       "      <th>2</th>\n",
       "      <td>7</td>\n",
       "      <td>12</td>\n",
       "      <td>2020-01-03</td>\n",
       "    </tr>\n",
       "    <tr>\n",
       "      <th>3</th>\n",
       "      <td>8</td>\n",
       "      <td>13</td>\n",
       "      <td>2020-01-04</td>\n",
       "    </tr>\n",
       "  </tbody>\n",
       "</table>\n",
       "</div>"
      ],
      "text/plain": [
       "   valores  numpy      fecha\n",
       "0        5     10 2020-01-01\n",
       "1        6     11 2020-01-02\n",
       "2        7     12 2020-01-03\n",
       "3        8     13 2020-01-04"
      ]
     },
     "execution_count": 112,
     "metadata": {},
     "output_type": "execute_result"
    }
   ],
   "source": [
    "datos1['valores'] = rango          #variable que se utilizo en la seccion de NumPy para guardar un rango de valores\n",
    "datos1['numpy'] = np.arange(10,14)\n",
    "datos1['fecha'] = pd.date_range('2020-01-01', periods=4, freq='d')\n",
    "datos1"
   ]
  },
  {
   "cell_type": "markdown",
   "metadata": {},
   "source": [
    "Al igual que en las operaciones aritméticas de NumPy, en pandas cada vez que se agregue una columna a un cuadro de datos esta debe tener el mismo número de elementos que las columnas que ya forman parte del cuadro de datos. Si desea ver todas las formas de crear un cuadro de datos pandas en esta [**liga**](https://pandas.pydata.org/docs/getting_started/dsintro.html#dataframe) puede consultalo. "
   ]
  },
  {
   "cell_type": "markdown",
   "metadata": {},
   "source": [
    "## 2.3 Indexación"
   ]
  },
  {
   "cell_type": "markdown",
   "metadata": {},
   "source": [
    "Como se mencionó en la parte de NumPy la indexación permite seleccionar información de una estructura de datos, en el caso de los cuadros de datos de pandas estos también presentan esta capacidad. Aquí solo se verán algunas cuantas pero en la esta [**liga**](https://pandas.pydata.org/docs/user_guide/indexing.html) se puede consultar todas las formas que existen en pandas."
   ]
  },
  {
   "cell_type": "markdown",
   "metadata": {},
   "source": [
    "   ### 2.3.1 Por renglones"
   ]
  },
  {
   "cell_type": "markdown",
   "metadata": {},
   "source": [
    "Al igual que los vectores NumPy en los cuadros de datos pandas es posible acceder a la informacion que contienen y la forma es muy similar a si fueran vectores NumPy. Si se observa bien el cuadro de datos ```datos1``` la primera columna de números se le conoce como índice y se utiliza cuando se quiere filtran información a partir de renglón, a continuación, se muestra las distintas formas de filtran información por renglones:\n",
    "* ```pd.DataFrame().iloc[k]``` Para filtrar el renglón con índice ```k```\n",
    "* ```pd.DataFrame().iloc[:k]``` Para filtrar los renglones desde el inicio hasta el índice ```k-1```\n",
    "* ```pd.DataFrame().iloc[k:]``` Para filtrar los renglones desde el índice ```k``` hasta el final\n",
    "* ```pd.DataFrame().iloc[k:m]``` Para filtrar los renglones desde el índice ```k``` hasta el índice ```m-1```\n",
    "* ```pd.DataFrame().iloc[k:m:n]``` Para filtrar los renglones desde el índice ```k``` hasta el índice ```m-1``` en pasos de ```n``` renglones\n",
    "* ```pd.DataFrame().iloc[[lista_renglones]]```Para filtrar un conjunto de renglones de forma explicita\n",
    "\n",
    "Debido a que funciona de la misma forma que si fuera un vector NumPy salvo que se agrega ```.iloc``` solo se muestran algunos ejemplos"
   ]
  },
  {
   "cell_type": "code",
   "execution_count": 117,
   "metadata": {},
   "outputs": [
    {
     "data": {
      "text/html": [
       "<div>\n",
       "<style scoped>\n",
       "    .dataframe tbody tr th:only-of-type {\n",
       "        vertical-align: middle;\n",
       "    }\n",
       "\n",
       "    .dataframe tbody tr th {\n",
       "        vertical-align: top;\n",
       "    }\n",
       "\n",
       "    .dataframe thead th {\n",
       "        text-align: right;\n",
       "    }\n",
       "</style>\n",
       "<table border=\"1\" class=\"dataframe\">\n",
       "  <thead>\n",
       "    <tr style=\"text-align: right;\">\n",
       "      <th></th>\n",
       "      <th>valores</th>\n",
       "      <th>numpy</th>\n",
       "      <th>fecha</th>\n",
       "    </tr>\n",
       "  </thead>\n",
       "  <tbody>\n",
       "    <tr>\n",
       "      <th>2</th>\n",
       "      <td>7</td>\n",
       "      <td>12</td>\n",
       "      <td>2020-01-03</td>\n",
       "    </tr>\n",
       "    <tr>\n",
       "      <th>3</th>\n",
       "      <td>8</td>\n",
       "      <td>13</td>\n",
       "      <td>2020-01-04</td>\n",
       "    </tr>\n",
       "  </tbody>\n",
       "</table>\n",
       "</div>"
      ],
      "text/plain": [
       "   valores  numpy      fecha\n",
       "2        7     12 2020-01-03\n",
       "3        8     13 2020-01-04"
      ]
     },
     "execution_count": 117,
     "metadata": {},
     "output_type": "execute_result"
    }
   ],
   "source": [
    "datos1.iloc[2:]"
   ]
  },
  {
   "cell_type": "code",
   "execution_count": 114,
   "metadata": {},
   "outputs": [
    {
     "data": {
      "text/html": [
       "<div>\n",
       "<style scoped>\n",
       "    .dataframe tbody tr th:only-of-type {\n",
       "        vertical-align: middle;\n",
       "    }\n",
       "\n",
       "    .dataframe tbody tr th {\n",
       "        vertical-align: top;\n",
       "    }\n",
       "\n",
       "    .dataframe thead th {\n",
       "        text-align: right;\n",
       "    }\n",
       "</style>\n",
       "<table border=\"1\" class=\"dataframe\">\n",
       "  <thead>\n",
       "    <tr style=\"text-align: right;\">\n",
       "      <th></th>\n",
       "      <th>valores</th>\n",
       "      <th>numpy</th>\n",
       "      <th>fecha</th>\n",
       "    </tr>\n",
       "  </thead>\n",
       "  <tbody>\n",
       "    <tr>\n",
       "      <th>0</th>\n",
       "      <td>5</td>\n",
       "      <td>10</td>\n",
       "      <td>2020-01-01</td>\n",
       "    </tr>\n",
       "    <tr>\n",
       "      <th>1</th>\n",
       "      <td>6</td>\n",
       "      <td>11</td>\n",
       "      <td>2020-01-02</td>\n",
       "    </tr>\n",
       "    <tr>\n",
       "      <th>3</th>\n",
       "      <td>8</td>\n",
       "      <td>13</td>\n",
       "      <td>2020-01-04</td>\n",
       "    </tr>\n",
       "  </tbody>\n",
       "</table>\n",
       "</div>"
      ],
      "text/plain": [
       "   valores  numpy      fecha\n",
       "0        5     10 2020-01-01\n",
       "1        6     11 2020-01-02\n",
       "3        8     13 2020-01-04"
      ]
     },
     "execution_count": 114,
     "metadata": {},
     "output_type": "execute_result"
    }
   ],
   "source": [
    "datos1.iloc[[0,1,3]]"
   ]
  },
  {
   "cell_type": "markdown",
   "metadata": {},
   "source": [
    "### 2.3.2 Por columnas"
   ]
  },
  {
   "cell_type": "markdown",
   "metadata": {},
   "source": [
    "También es posible filtrar/seccionar información a partir de las columnas para ello se utiliza la instrucción ```pd.DataFrame()[lista_columnas]```, en la ```lista_columnas``` es una lista formada por los nombres de las columnas que se desean seleccionar, a continuación, un ejemplo "
   ]
  },
  {
   "cell_type": "code",
   "execution_count": 120,
   "metadata": {},
   "outputs": [
    {
     "data": {
      "text/html": [
       "<div>\n",
       "<style scoped>\n",
       "    .dataframe tbody tr th:only-of-type {\n",
       "        vertical-align: middle;\n",
       "    }\n",
       "\n",
       "    .dataframe tbody tr th {\n",
       "        vertical-align: top;\n",
       "    }\n",
       "\n",
       "    .dataframe thead th {\n",
       "        text-align: right;\n",
       "    }\n",
       "</style>\n",
       "<table border=\"1\" class=\"dataframe\">\n",
       "  <thead>\n",
       "    <tr style=\"text-align: right;\">\n",
       "      <th></th>\n",
       "      <th>valores</th>\n",
       "      <th>fecha</th>\n",
       "    </tr>\n",
       "  </thead>\n",
       "  <tbody>\n",
       "    <tr>\n",
       "      <th>0</th>\n",
       "      <td>5</td>\n",
       "      <td>2020-01-01</td>\n",
       "    </tr>\n",
       "    <tr>\n",
       "      <th>1</th>\n",
       "      <td>6</td>\n",
       "      <td>2020-01-02</td>\n",
       "    </tr>\n",
       "    <tr>\n",
       "      <th>2</th>\n",
       "      <td>7</td>\n",
       "      <td>2020-01-03</td>\n",
       "    </tr>\n",
       "    <tr>\n",
       "      <th>3</th>\n",
       "      <td>8</td>\n",
       "      <td>2020-01-04</td>\n",
       "    </tr>\n",
       "  </tbody>\n",
       "</table>\n",
       "</div>"
      ],
      "text/plain": [
       "   valores      fecha\n",
       "0        5 2020-01-01\n",
       "1        6 2020-01-02\n",
       "2        7 2020-01-03\n",
       "3        8 2020-01-04"
      ]
     },
     "execution_count": 120,
     "metadata": {},
     "output_type": "execute_result"
    }
   ],
   "source": [
    "datos1[['valores','fecha']]"
   ]
  },
  {
   "cell_type": "markdown",
   "metadata": {},
   "source": [
    "### 2.3.3 Por celdas"
   ]
  },
  {
   "cell_type": "markdown",
   "metadata": {},
   "source": [
    "En ocasiones se desea hacer una selección muy específica, para eso es posible combinar la sección por renglones y columnas con la instrucción ```pd.DataFrame.iloc[indices][columnas]```. En el siguiente ejemplo se filtran las celdas en los renglones 0 y 3 para la columna ```'numpy'```."
   ]
  },
  {
   "cell_type": "code",
   "execution_count": 121,
   "metadata": {},
   "outputs": [
    {
     "data": {
      "text/html": [
       "<div>\n",
       "<style scoped>\n",
       "    .dataframe tbody tr th:only-of-type {\n",
       "        vertical-align: middle;\n",
       "    }\n",
       "\n",
       "    .dataframe tbody tr th {\n",
       "        vertical-align: top;\n",
       "    }\n",
       "\n",
       "    .dataframe thead th {\n",
       "        text-align: right;\n",
       "    }\n",
       "</style>\n",
       "<table border=\"1\" class=\"dataframe\">\n",
       "  <thead>\n",
       "    <tr style=\"text-align: right;\">\n",
       "      <th></th>\n",
       "      <th>numpy</th>\n",
       "    </tr>\n",
       "  </thead>\n",
       "  <tbody>\n",
       "    <tr>\n",
       "      <th>0</th>\n",
       "      <td>10</td>\n",
       "    </tr>\n",
       "    <tr>\n",
       "      <th>3</th>\n",
       "      <td>13</td>\n",
       "    </tr>\n",
       "  </tbody>\n",
       "</table>\n",
       "</div>"
      ],
      "text/plain": [
       "   numpy\n",
       "0     10\n",
       "3     13"
      ]
     },
     "execution_count": 121,
     "metadata": {},
     "output_type": "execute_result"
    }
   ],
   "source": [
    "datos1.iloc[[0,3]][['numpy']]"
   ]
  },
  {
   "cell_type": "markdown",
   "metadata": {},
   "source": [
    "## 2.4 Operaciones entre columnas"
   ]
  },
  {
   "cell_type": "markdown",
   "metadata": {},
   "source": [
    "Las operaciones aritméticas básicas; suma, resta, multiplicación, división y potencia se pueden realizar entre columnas de un cuadro de datos pandas como si se tratasen de vectores NumPy. En caso de querer aplicar una función matemática especial a una columna de un cuadro de datos se utilizan las funciones de NumPy, a continuación, un ejemplo."
   ]
  },
  {
   "cell_type": "code",
   "execution_count": 122,
   "metadata": {},
   "outputs": [
    {
     "data": {
      "text/html": [
       "<div>\n",
       "<style scoped>\n",
       "    .dataframe tbody tr th:only-of-type {\n",
       "        vertical-align: middle;\n",
       "    }\n",
       "\n",
       "    .dataframe tbody tr th {\n",
       "        vertical-align: top;\n",
       "    }\n",
       "\n",
       "    .dataframe thead th {\n",
       "        text-align: right;\n",
       "    }\n",
       "</style>\n",
       "<table border=\"1\" class=\"dataframe\">\n",
       "  <thead>\n",
       "    <tr style=\"text-align: right;\">\n",
       "      <th></th>\n",
       "      <th>valores</th>\n",
       "      <th>numpy</th>\n",
       "      <th>fecha</th>\n",
       "      <th>operacion</th>\n",
       "      <th>sen</th>\n",
       "    </tr>\n",
       "  </thead>\n",
       "  <tbody>\n",
       "    <tr>\n",
       "      <th>0</th>\n",
       "      <td>5</td>\n",
       "      <td>10</td>\n",
       "      <td>2020-01-01</td>\n",
       "      <td>25.0</td>\n",
       "      <td>-0.958924</td>\n",
       "    </tr>\n",
       "    <tr>\n",
       "      <th>1</th>\n",
       "      <td>6</td>\n",
       "      <td>11</td>\n",
       "      <td>2020-01-02</td>\n",
       "      <td>33.0</td>\n",
       "      <td>-0.279415</td>\n",
       "    </tr>\n",
       "    <tr>\n",
       "      <th>2</th>\n",
       "      <td>7</td>\n",
       "      <td>12</td>\n",
       "      <td>2020-01-03</td>\n",
       "      <td>42.0</td>\n",
       "      <td>0.656987</td>\n",
       "    </tr>\n",
       "    <tr>\n",
       "      <th>3</th>\n",
       "      <td>8</td>\n",
       "      <td>13</td>\n",
       "      <td>2020-01-04</td>\n",
       "      <td>52.0</td>\n",
       "      <td>0.989358</td>\n",
       "    </tr>\n",
       "  </tbody>\n",
       "</table>\n",
       "</div>"
      ],
      "text/plain": [
       "   valores  numpy      fecha  operacion       sen\n",
       "0        5     10 2020-01-01       25.0 -0.958924\n",
       "1        6     11 2020-01-02       33.0 -0.279415\n",
       "2        7     12 2020-01-03       42.0  0.656987\n",
       "3        8     13 2020-01-04       52.0  0.989358"
      ]
     },
     "execution_count": 122,
     "metadata": {},
     "output_type": "execute_result"
    }
   ],
   "source": [
    "datos1['operacion'] = datos1['valores']*datos1['numpy']/2\n",
    "datos1['sen'] = np.sin( datos1['valores'] )\n",
    "datos1"
   ]
  },
  {
   "cell_type": "markdown",
   "metadata": {},
   "source": [
    "## 2.5 Lectura y escritura de archivos"
   ]
  },
  {
   "cell_type": "markdown",
   "metadata": {},
   "source": [
    "Como se menciono al inicio de esta sección pandas puede manejar una gran variedad de formatos en las que se encuentran las bases de datos, en esta [**liga**]( https://pandas.pydata.org/docs/user_guide/io.html) muestra todos los formatos y como manejar cada uno de ellos. \n",
    "\n",
    "La gran mayoría de las bases de datos enfocadas para el uso de inteligencia artificial se encuentran en formato ```.csv```, por tal motivo veremos como leer estos archivos con pandas y como guardar un cuadro de datos pandas en este formato.\n",
    "* ```pd.read_csv('nombre_archivo.csv')``` Para leer un archivo csv\n",
    "* ```pd.to_csv('nombre_archivo.csv')``` Para guardar un cuadro de datos pandas en un archivo csv"
   ]
  },
  {
   "cell_type": "code",
   "execution_count": 123,
   "metadata": {},
   "outputs": [
    {
     "data": {
      "text/html": [
       "<div>\n",
       "<style scoped>\n",
       "    .dataframe tbody tr th:only-of-type {\n",
       "        vertical-align: middle;\n",
       "    }\n",
       "\n",
       "    .dataframe tbody tr th {\n",
       "        vertical-align: top;\n",
       "    }\n",
       "\n",
       "    .dataframe thead th {\n",
       "        text-align: right;\n",
       "    }\n",
       "</style>\n",
       "<table border=\"1\" class=\"dataframe\">\n",
       "  <thead>\n",
       "    <tr style=\"text-align: right;\">\n",
       "      <th></th>\n",
       "      <th>Gender</th>\n",
       "      <th>Height</th>\n",
       "      <th>Weight</th>\n",
       "    </tr>\n",
       "  </thead>\n",
       "  <tbody>\n",
       "    <tr>\n",
       "      <th>0</th>\n",
       "      <td>Male</td>\n",
       "      <td>73.847017</td>\n",
       "      <td>241.893563</td>\n",
       "    </tr>\n",
       "    <tr>\n",
       "      <th>1</th>\n",
       "      <td>Male</td>\n",
       "      <td>68.781904</td>\n",
       "      <td>162.310473</td>\n",
       "    </tr>\n",
       "    <tr>\n",
       "      <th>2</th>\n",
       "      <td>Male</td>\n",
       "      <td>74.110105</td>\n",
       "      <td>212.740856</td>\n",
       "    </tr>\n",
       "    <tr>\n",
       "      <th>3</th>\n",
       "      <td>Male</td>\n",
       "      <td>71.730978</td>\n",
       "      <td>220.042470</td>\n",
       "    </tr>\n",
       "    <tr>\n",
       "      <th>4</th>\n",
       "      <td>Male</td>\n",
       "      <td>69.881796</td>\n",
       "      <td>206.349801</td>\n",
       "    </tr>\n",
       "    <tr>\n",
       "      <th>...</th>\n",
       "      <td>...</td>\n",
       "      <td>...</td>\n",
       "      <td>...</td>\n",
       "    </tr>\n",
       "    <tr>\n",
       "      <th>9995</th>\n",
       "      <td>Female</td>\n",
       "      <td>66.172652</td>\n",
       "      <td>136.777454</td>\n",
       "    </tr>\n",
       "    <tr>\n",
       "      <th>9996</th>\n",
       "      <td>Female</td>\n",
       "      <td>67.067155</td>\n",
       "      <td>170.867906</td>\n",
       "    </tr>\n",
       "    <tr>\n",
       "      <th>9997</th>\n",
       "      <td>Female</td>\n",
       "      <td>63.867992</td>\n",
       "      <td>128.475319</td>\n",
       "    </tr>\n",
       "    <tr>\n",
       "      <th>9998</th>\n",
       "      <td>Female</td>\n",
       "      <td>69.034243</td>\n",
       "      <td>163.852461</td>\n",
       "    </tr>\n",
       "    <tr>\n",
       "      <th>9999</th>\n",
       "      <td>Female</td>\n",
       "      <td>61.944246</td>\n",
       "      <td>113.649103</td>\n",
       "    </tr>\n",
       "  </tbody>\n",
       "</table>\n",
       "<p>10000 rows × 3 columns</p>\n",
       "</div>"
      ],
      "text/plain": [
       "      Gender     Height      Weight\n",
       "0       Male  73.847017  241.893563\n",
       "1       Male  68.781904  162.310473\n",
       "2       Male  74.110105  212.740856\n",
       "3       Male  71.730978  220.042470\n",
       "4       Male  69.881796  206.349801\n",
       "...      ...        ...         ...\n",
       "9995  Female  66.172652  136.777454\n",
       "9996  Female  67.067155  170.867906\n",
       "9997  Female  63.867992  128.475319\n",
       "9998  Female  69.034243  163.852461\n",
       "9999  Female  61.944246  113.649103\n",
       "\n",
       "[10000 rows x 3 columns]"
      ]
     },
     "execution_count": 123,
     "metadata": {},
     "output_type": "execute_result"
    }
   ],
   "source": [
    "datos = pd.read_csv('altura_peso.csv')\n",
    "datos"
   ]
  },
  {
   "cell_type": "markdown",
   "metadata": {},
   "source": [
    "## 2.6 Funciones básicas esenciales"
   ]
  },
  {
   "cell_type": "markdown",
   "metadata": {},
   "source": [
    "Existen muchas funciones de pandas que permiten manipular los cuadros de datos, la gran mayoría se pueden encontrar en esta [**liga**]( https://pandas.pydata.org/docs/getting_started/basics.html#dropping-labels-from-an-axis), entre ellas se encuentran opciones para ordenar, eliminar columnas, renombrar columnas, descripción estadística, manejo de datos faltantes, unión de cuadros de datos, agrupamiento, entre muchas más. A continuación se mencionaran los que se utilizaran en el curso:\n",
    "* ```pd.head(k)``` Muestra los primeros ```k``` renglones del cuadro de datos\n",
    "* ```pd.tail(k)``` Muestra los últimos ```k``` renglones del cuadro de datos\n",
    "* ```pd.drop(columns=[lista_columnas]``` Elimina las columnas que están en la lista ```lista_columnas```\n",
    "* ```pd.describe()``` Genera una tabla de medidas muestrales "
   ]
  },
  {
   "cell_type": "markdown",
   "metadata": {},
   "source": [
    "# 3. Matplotlib\n",
    "* [Sitio web oficial](https://matplotlib.org/index.html)\n",
    "* [Tutorial para principiantes](https://matplotlib.org/tutorials/introductory/pyplot.html)"
   ]
  },
  {
   "cell_type": "markdown",
   "metadata": {},
   "source": [
    "Matplotlib es una biblioteca completa para crear visualizaciones estáticas, animadas e interactivas para hacer trazados 2D en Python. Matplotlib está diseñado con la filosofía de que debería poder crear trazados simples con solo unos pocos comandos.\n",
    "\n",
    "Primero para poder utilizar matplotlib se debe de importar de la siguiente manera."
   ]
  },
  {
   "cell_type": "code",
   "execution_count": 124,
   "metadata": {},
   "outputs": [],
   "source": [
    "import matplotlib.pyplot as plt\n",
    "%matplotlib inline"
   ]
  },
  {
   "cell_type": "markdown",
   "metadata": {},
   "source": [
    "## 3.1 Creación de una imagen y área de trabajo"
   ]
  },
  {
   "cell_type": "markdown",
   "metadata": {},
   "source": [
    "Antes de empezar la graficar datos es necesario especificar la imagen sobre la cual se graficará y los ejes de la gráfica. Para ello se utiliza la instrucción ```fig, ax = plt.subplots()```, la variable ```fig``` es para crear la imagen y la variable ```ax``` se refiere a los ejes de la gráfica, para que quede mas claro observe la siguiente grafica."
   ]
  },
  {
   "cell_type": "code",
   "execution_count": 139,
   "metadata": {},
   "outputs": [
    {
     "data": {
      "image/png": "[encoded data removed]",
      "text/plain": [
       "<Figure size 432x288 with 1 Axes>"
      ]
     },
     "metadata": {
      "needs_background": "light"
     },
     "output_type": "display_data"
    }
   ],
   "source": [
    "fig, ax = plt.subplots()\n",
    "plt.show()"
   ]
  },
  {
   "cell_type": "markdown",
   "metadata": {},
   "source": [
    "Como se observa la imagen creada tiene ejes, pero aún no hay nada graficado. En este curso se realizarán dos tipos de graficas:\n",
    "* ```ax.plot(valores_x , valores_y, marker=’’, linestyle=’’,color=’’,label=’nombre_grafica’)``` grafica los puntos con coordenadas en el eje x dadas por la lista ```valores_x``` y en el eje y dadas por la lista ```valores_y```. ```marker``` indica la forma del punto. ```linestyle``` somo se unirán los puntos a graficar si es que se quieren unir.  ```color``` indica el color de los puntos a graficar. Por último ```label``` indica el nombre con el cual se identifican los puntos a grafiar. Las opciones para ```marker```, ```color``` y ```linestyle``` se pueden encontrar [aquí](https://matplotlib.org/api/_as_gen/matplotlib.pyplot.plot.html#matplotlib.pyplot.plot)\n",
    "* ```ax.bar(nombres_barras, altura_barras)``` Genera una gráfica de barras con nombres dados por la lista ```nombres_barras``` (lista con elementos de caracteres) y la altura de cada barra dada por la lista ```altura_barras```\n",
    "\n"
   ]
  },
  {
   "cell_type": "code",
   "execution_count": 142,
   "metadata": {},
   "outputs": [
    {
     "data": {
      "image/png": "[encoded data removed]",
      "text/plain": [
       "<Figure size 432x288 with 1 Axes>"
      ]
     },
     "metadata": {
      "needs_background": "light"
     },
     "output_type": "display_data"
    },
    {
     "data": {
      "image/png": "[encoded data removed]",
      "text/plain": [
       "<Figure size 432x288 with 1 Axes>"
      ]
     },
     "metadata": {
      "needs_background": "light"
     },
     "output_type": "display_data"
    }
   ],
   "source": [
    "fig,ax=plt.subplots()\n",
    "ax.plot( [1,2,3] , [4,5,6], marker='o', linestyle='-', color='r', label='puntos')\n",
    "ax.legend()\n",
    "plt.show()\n",
    "\n",
    "fig,ax=plt.subplots()\n",
    "ax.bar(['manzanas','naranjas'],[50,48])\n",
    "plt.show()"
   ]
  },
  {
   "cell_type": "markdown",
   "metadata": {},
   "source": [
    "La instrucción ```ax.legend()``` en la primera imagen es para activar que el ```label``` se muestre en la imagen. En ambos tipos de graficas pueden usarse con vectore NumPy o con columnas de un cuadro de datos pandas y puede graficarse mas de una vez sobre unos ejes, continuación un ejemplo."
   ]
  },
  {
   "cell_type": "code",
   "execution_count": 151,
   "metadata": {},
   "outputs": [
    {
     "data": {
      "image/png": "[encoded data removed]",
      "text/plain": [
       "<Figure size 432x288 with 1 Axes>"
      ]
     },
     "metadata": {
      "needs_background": "light"
     },
     "output_type": "display_data"
    }
   ],
   "source": [
    "fig,ax=plt.subplots()\n",
    "ax.plot(datos['Height'] , datos['Weight'] , marker='x' , color='r' , linestyle='' , label='datos')\n",
    "ax.plot(np.arange(50,80) , np.sin(np.arange(50,80))*75+150, marker='o' , color='b' , linestyle='-' , label='datos2')\n",
    "ax.set_xlabel('peso')\n",
    "ax.set_ylabel('altura')\n",
    "ax.set_title('grafica')\n",
    "ax.legend()\n",
    "plt.show()"
   ]
  },
  {
   "cell_type": "markdown",
   "metadata": {},
   "source": [
    "```ax.set_xlabel('')``` establece el nombre del eje x, ```ax.set_ylabel('')``` establece el nombre del eje y, y ```ax.set_title('')``` establece el nombre de la imagen. Aunque existen muchas más cosas que es posible hacer con matplotlib, con los elementos expuestos son suficientes para generar todas las graficas que se realizaran en el curso, en esta [**liga**](https://matplotlib.org/gallery/index.html) se podrán encontrar ejemplos de todo lo que se puede hacer con matplotlib."
   ]
  },
  {
   "cell_type": "markdown",
   "metadata": {},
   "source": [
    "# 4. Condiciones en Python"
   ]
  },
  {
   "cell_type": "markdown",
   "metadata": {},
   "source": [
    "Las condiciones son expresiones/operaciones matemáticas cuyo resultado es un **valor booleano**, el cual puede ser ```True``` (verdadero) o ```False``` (falso). Estos dos valores booleanos son un tipo de dato al igual que los números, listas, vectores NumPy y cuadros de datos pandas, por tal motivo igual se pueden guardar en variables. Debido a la naturaleza misma de los valores booleanos las operaciones que tienen este tipo de resultado son diferentes a las típicas operaciones aritméticas y funciones especiales. Existen muchas operaciones que tienen como resultado un valor booleano, pero en nuestro caso solo nos enfocaremos en tres tipos; comparadores, lógicos y pertenencia. Para mayor información consulte [**aquí**](https://docs.python.org/3/reference/expressions.html#comparisons)."
   ]
  },
  {
   "cell_type": "markdown",
   "metadata": {},
   "source": [
    "## 4.1 Operadores de comparación"
   ]
  },
  {
   "cell_type": "markdown",
   "metadata": {},
   "source": [
    "Los operadores de comparación permiten comparar el valor de exclusivamente dos datos. Dos celdas abajo se mencionan todos los operadores de comparación y cómo funcionan. Solo para recordar se imprimen las variables ```trozos```, ```rango``` y ```datos``` para recordar que información guardan."
   ]
  },
  {
   "cell_type": "code",
   "execution_count": 166,
   "metadata": {},
   "outputs": [
    {
     "name": "stdout",
     "output_type": "stream",
     "text": [
      "[0.  0.5 5.  8.  9. ]\n",
      "[5 6 7 8]\n"
     ]
    },
    {
     "data": {
      "text/html": [
       "<div>\n",
       "<style scoped>\n",
       "    .dataframe tbody tr th:only-of-type {\n",
       "        vertical-align: middle;\n",
       "    }\n",
       "\n",
       "    .dataframe tbody tr th {\n",
       "        vertical-align: top;\n",
       "    }\n",
       "\n",
       "    .dataframe thead th {\n",
       "        text-align: right;\n",
       "    }\n",
       "</style>\n",
       "<table border=\"1\" class=\"dataframe\">\n",
       "  <thead>\n",
       "    <tr style=\"text-align: right;\">\n",
       "      <th></th>\n",
       "      <th>Gender</th>\n",
       "      <th>Height</th>\n",
       "      <th>Weight</th>\n",
       "    </tr>\n",
       "  </thead>\n",
       "  <tbody>\n",
       "    <tr>\n",
       "      <th>0</th>\n",
       "      <td>Male</td>\n",
       "      <td>73.847017</td>\n",
       "      <td>241.893563</td>\n",
       "    </tr>\n",
       "    <tr>\n",
       "      <th>1</th>\n",
       "      <td>Male</td>\n",
       "      <td>68.781904</td>\n",
       "      <td>162.310473</td>\n",
       "    </tr>\n",
       "    <tr>\n",
       "      <th>2</th>\n",
       "      <td>Male</td>\n",
       "      <td>74.110105</td>\n",
       "      <td>212.740856</td>\n",
       "    </tr>\n",
       "    <tr>\n",
       "      <th>3</th>\n",
       "      <td>Male</td>\n",
       "      <td>71.730978</td>\n",
       "      <td>220.042470</td>\n",
       "    </tr>\n",
       "  </tbody>\n",
       "</table>\n",
       "</div>"
      ],
      "text/plain": [
       "  Gender     Height      Weight\n",
       "0   Male  73.847017  241.893563\n",
       "1   Male  68.781904  162.310473\n",
       "2   Male  74.110105  212.740856\n",
       "3   Male  71.730978  220.042470"
      ]
     },
     "execution_count": 166,
     "metadata": {},
     "output_type": "execute_result"
    }
   ],
   "source": [
    "print(trozos)\n",
    "print(rango)\n",
    "datos.head(4)"
   ]
  },
  {
   "cell_type": "markdown",
   "metadata": {},
   "source": [
    "|Comparadores|Significado|Ejemplo|Resultado|\n",
    "|---|---|---|---|\n",
    "|>|Mayor que|```5>3```|True|\n",
    "|>=|Mayor o igual que|```2>=7```|False|\n",
    "|<|Menor que|```rango[1]<trozos[2]```|False|\n",
    "|<=|Menor o igual que|```datos.iloc[1]['Height']<=datos.iloc[0]['Height']```|True|\n",
    "|==|Igual a|```'Alan'=='alan'```|False|\n",
    "|!=|Diferente a|```datos.iloc[1]['Gender']!=datos.iloc[0]['Gender']```|False|"
   ]
  },
  {
   "cell_type": "markdown",
   "metadata": {},
   "source": [
    "Lo más común es utilizarlo para datos numéricos por ser intuitivos, pero bien funcionan para datos de tipo caracteres. Existen dos grandes aplicaciones de los operadores de comparación, una de ellas es para **filtrar** datos en listas, vectores NumPy y cuadros de datos pandas, es decir estructuras que están formadas por varios elementos. A continuación, se explica como hacer un filtrado de información cuando los datos se encuentran guardados en una variable.\n",
    "* ```variable[variable operador valor]``` Es importante que la expresión se encuentre entre paréntesis cuadrados ```[]```\n",
    "\n",
    "A continuación unos ejemplos"
   ]
  },
  {
   "cell_type": "code",
   "execution_count": 175,
   "metadata": {},
   "outputs": [
    {
     "name": "stdout",
     "output_type": "stream",
     "text": [
      "[5 6 7]\n"
     ]
    },
    {
     "data": {
      "text/html": [
       "<div>\n",
       "<style scoped>\n",
       "    .dataframe tbody tr th:only-of-type {\n",
       "        vertical-align: middle;\n",
       "    }\n",
       "\n",
       "    .dataframe tbody tr th {\n",
       "        vertical-align: top;\n",
       "    }\n",
       "\n",
       "    .dataframe thead th {\n",
       "        text-align: right;\n",
       "    }\n",
       "</style>\n",
       "<table border=\"1\" class=\"dataframe\">\n",
       "  <thead>\n",
       "    <tr style=\"text-align: right;\">\n",
       "      <th></th>\n",
       "      <th>Gender</th>\n",
       "      <th>Height</th>\n",
       "      <th>Weight</th>\n",
       "    </tr>\n",
       "  </thead>\n",
       "  <tbody>\n",
       "    <tr>\n",
       "      <th>0</th>\n",
       "      <td>Male</td>\n",
       "      <td>73.847017</td>\n",
       "      <td>241.893563</td>\n",
       "    </tr>\n",
       "    <tr>\n",
       "      <th>1</th>\n",
       "      <td>Male</td>\n",
       "      <td>68.781904</td>\n",
       "      <td>162.310473</td>\n",
       "    </tr>\n",
       "    <tr>\n",
       "      <th>2</th>\n",
       "      <td>Male</td>\n",
       "      <td>74.110105</td>\n",
       "      <td>212.740856</td>\n",
       "    </tr>\n",
       "    <tr>\n",
       "      <th>3</th>\n",
       "      <td>Male</td>\n",
       "      <td>71.730978</td>\n",
       "      <td>220.042470</td>\n",
       "    </tr>\n",
       "    <tr>\n",
       "      <th>4</th>\n",
       "      <td>Male</td>\n",
       "      <td>69.881796</td>\n",
       "      <td>206.349801</td>\n",
       "    </tr>\n",
       "    <tr>\n",
       "      <th>...</th>\n",
       "      <td>...</td>\n",
       "      <td>...</td>\n",
       "      <td>...</td>\n",
       "    </tr>\n",
       "    <tr>\n",
       "      <th>4995</th>\n",
       "      <td>Male</td>\n",
       "      <td>68.860062</td>\n",
       "      <td>177.131052</td>\n",
       "    </tr>\n",
       "    <tr>\n",
       "      <th>4996</th>\n",
       "      <td>Male</td>\n",
       "      <td>68.973423</td>\n",
       "      <td>159.285228</td>\n",
       "    </tr>\n",
       "    <tr>\n",
       "      <th>4997</th>\n",
       "      <td>Male</td>\n",
       "      <td>67.013795</td>\n",
       "      <td>199.195400</td>\n",
       "    </tr>\n",
       "    <tr>\n",
       "      <th>4998</th>\n",
       "      <td>Male</td>\n",
       "      <td>71.557718</td>\n",
       "      <td>185.905909</td>\n",
       "    </tr>\n",
       "    <tr>\n",
       "      <th>4999</th>\n",
       "      <td>Male</td>\n",
       "      <td>70.351880</td>\n",
       "      <td>198.903012</td>\n",
       "    </tr>\n",
       "  </tbody>\n",
       "</table>\n",
       "<p>5000 rows × 3 columns</p>\n",
       "</div>"
      ],
      "text/plain": [
       "     Gender     Height      Weight\n",
       "0      Male  73.847017  241.893563\n",
       "1      Male  68.781904  162.310473\n",
       "2      Male  74.110105  212.740856\n",
       "3      Male  71.730978  220.042470\n",
       "4      Male  69.881796  206.349801\n",
       "...     ...        ...         ...\n",
       "4995   Male  68.860062  177.131052\n",
       "4996   Male  68.973423  159.285228\n",
       "4997   Male  67.013795  199.195400\n",
       "4998   Male  71.557718  185.905909\n",
       "4999   Male  70.351880  198.903012\n",
       "\n",
       "[5000 rows x 3 columns]"
      ]
     },
     "execution_count": 175,
     "metadata": {},
     "output_type": "execute_result"
    }
   ],
   "source": [
    "print(rango[rango<8])             #Del vector NumPy rango regresa todos los elementos que son menores a 8\n",
    "datos[datos['Gender']=='Male']    #Del cuadro de datos pandas regresa solo los datos que en 'Gender' son 'Male'"
   ]
  },
  {
   "cell_type": "markdown",
   "metadata": {},
   "source": [
    "## 4.2 Operadores lógicos"
   ]
  },
  {
   "cell_type": "markdown",
   "metadata": {},
   "source": [
    "Los operadores lógicos solamente funcionan sobre datos booleanos, en la figura de abajo se explica mejor su funcionamiento y en la tabla se muestran algunos ejemplos"
   ]
  },
  {
   "cell_type": "markdown",
   "metadata": {},
   "source": [
    "|Lógicos|Significado|Ejemplo|Resultado|\n",
    "|---|---|---|---|\n",
    "|and|Verdadero si ambos son verdadero|```(5>3) and (2>=7)```|False|\n",
    "|or|Verdadero si alguno de los dos es verdadero|```(rango[1]<trozos[2]) or ('Alan'=='alan')```|False|\n",
    "|not|Contrario|```not datos.iloc[1]['Gender']<=datos.iloc[0]['Gender']```|True|"
   ]
  },
  {
   "cell_type": "markdown",
   "metadata": {},
   "source": [
    "<img src=\"figuras/logicos.png\" width=700> "
   ]
  },
  {
   "cell_type": "markdown",
   "metadata": {},
   "source": [
    "Una característica de los operadores lógicos es que se pueden **emplear más de un operador lógico en una expresión** y con ayuda de los paréntesis ```()``` es posible cambiar el orden en que se hace la operación, por ejemplo."
   ]
  },
  {
   "cell_type": "code",
   "execution_count": 179,
   "metadata": {},
   "outputs": [
    {
     "data": {
      "text/plain": [
       "False"
      ]
     },
     "execution_count": 179,
     "metadata": {},
     "output_type": "execute_result"
    }
   ],
   "source": [
    "(5>3) and  (  (rango[1]<trozos[2]) or ('Alan'=='alan')  )"
   ]
  },
  {
   "cell_type": "markdown",
   "metadata": {},
   "source": [
    "Junto con los operadores de comparación los operadores lógicos permiten hacer **filtrado** de información más avanzado, pero es necesario cambiar el símbolo del operador lógico, aunque hagan la misma acción, ```and``` por ```&``` y ```or``` por ```|```, a continuación se explica como funciona y unos ejemplos\n",
    "* ```variables[ (operacion_comparacion_1) operador_logico (operacion_comparacion_2)]``` Toda la operación va dentro de paréntesis cuadrados ```[]``` y cada operación de comparación va entre paréntesis ```()```"
   ]
  },
  {
   "cell_type": "code",
   "execution_count": 192,
   "metadata": {},
   "outputs": [
    {
     "name": "stdout",
     "output_type": "stream",
     "text": [
      "[0.5 5.  8. ]\n"
     ]
    },
    {
     "data": {
      "text/html": [
       "<div>\n",
       "<style scoped>\n",
       "    .dataframe tbody tr th:only-of-type {\n",
       "        vertical-align: middle;\n",
       "    }\n",
       "\n",
       "    .dataframe tbody tr th {\n",
       "        vertical-align: top;\n",
       "    }\n",
       "\n",
       "    .dataframe thead th {\n",
       "        text-align: right;\n",
       "    }\n",
       "</style>\n",
       "<table border=\"1\" class=\"dataframe\">\n",
       "  <thead>\n",
       "    <tr style=\"text-align: right;\">\n",
       "      <th></th>\n",
       "      <th>Gender</th>\n",
       "      <th>Height</th>\n",
       "      <th>Weight</th>\n",
       "    </tr>\n",
       "  </thead>\n",
       "  <tbody>\n",
       "    <tr>\n",
       "      <th>7162</th>\n",
       "      <td>Female</td>\n",
       "      <td>72.429771</td>\n",
       "      <td>177.969532</td>\n",
       "    </tr>\n",
       "    <tr>\n",
       "      <th>7311</th>\n",
       "      <td>Female</td>\n",
       "      <td>73.389586</td>\n",
       "      <td>190.078729</td>\n",
       "    </tr>\n",
       "    <tr>\n",
       "      <th>7856</th>\n",
       "      <td>Female</td>\n",
       "      <td>72.264748</td>\n",
       "      <td>188.437304</td>\n",
       "    </tr>\n",
       "    <tr>\n",
       "      <th>8635</th>\n",
       "      <td>Female</td>\n",
       "      <td>72.088712</td>\n",
       "      <td>192.530863</td>\n",
       "    </tr>\n",
       "  </tbody>\n",
       "</table>\n",
       "</div>"
      ],
      "text/plain": [
       "      Gender     Height      Weight\n",
       "7162  Female  72.429771  177.969532\n",
       "7311  Female  73.389586  190.078729\n",
       "7856  Female  72.264748  188.437304\n",
       "8635  Female  72.088712  192.530863"
      ]
     },
     "execution_count": 192,
     "metadata": {},
     "output_type": "execute_result"
    }
   ],
   "source": [
    "print(    trozos[ (trozos<9) & (trozos>0) ]     )\n",
    "datos[ (datos['Gender']=='Female') & (datos['Height']>72) ]"
   ]
  },
  {
   "cell_type": "markdown",
   "metadata": {},
   "source": [
    "## 4.3 Operadores de pertenencia"
   ]
  },
  {
   "cell_type": "markdown",
   "metadata": {},
   "source": [
    "Los operadores de pertenencia permiten evaluar si un elemento pertenece a una lista, vector NumPy o columna de un cuadro de datos pandas. Por si solo una operación de pertenencia no puede filtrar datos, pero cuando se combina con los operadores de comparación y lógicos si puede ayudar a hacer filtrado de información. A continuación, la descripción de los operadores de pertenencia y unos ejemplos."
   ]
  },
  {
   "cell_type": "markdown",
   "metadata": {},
   "source": [
    "|Pertenencia|Significado|Ejemplo|Resultado|\n",
    "|---|---|---|---|\n",
    "|```in```|Verdadero si pertenece|```7 in rango```|True|\n",
    "|```not in```|Verdadero si no pertenece|```'Male' not in datos['Gender'].unique()```|False|"
   ]
  },
  {
   "cell_type": "markdown",
   "metadata": {},
   "source": [
    "# 5 Control de flujo"
   ]
  },
  {
   "cell_type": "markdown",
   "metadata": {},
   "source": [
    "Las instrucciones de control de flujo permiten especificar el comportamiento o las acciones a realizar por el código, [**aquí**](https://docs.python.org/3/tutorial/controlflow.html#) puede consultar información más específica, a continuación, se presentarán las opciones de flujo de control que se usaran en el curso.  "
   ]
  },
  {
   "cell_type": "markdown",
   "metadata": {},
   "source": [
    "## 5.1 Control de flujo: ```if```"
   ]
  },
  {
   "cell_type": "markdown",
   "metadata": {},
   "source": [
    "La instrucción ```if``` permite que realizar acciones especificas siempre y cuando se cumpla una condición. A continuación, se presenta la estructura del ```if```.\n",
    "\n",
    ">```\n",
    "if condicion_1:\n",
    "    Acciones en caso de cumplirse la condicion_1\n",
    "elif condicion_2:\n",
    "    Acciones en caso de cumplirse la condicion_2\n",
    "else:\n",
    "    En caso de no cumplirse ninguna de las condiciones de \n",
    "    arriba las acciones de este bloque se ejecutan por default\n",
    "```\n"
   ]
  },
  {
   "cell_type": "markdown",
   "metadata": {},
   "source": [
    "La estructura del ```if``` siempre comenzara con ```if```, las instrucciones ```elif``` y ```else``` son opcionales y entre ```if``` y ```else``` no hay limites para colocar los ```elif``` que se deseen. A continuación, un ejemplo."
   ]
  },
  {
   "cell_type": "code",
   "execution_count": 203,
   "metadata": {},
   "outputs": [
    {
     "name": "stdout",
     "output_type": "stream",
     "text": [
      "eres una persona de estatura baja\n"
     ]
    }
   ],
   "source": [
    "#datos[datos['Height']<60] #1942\n",
    "#datos[datos['Height']>70] #0\n",
    "#datos[(datos['Height']>60) & (datos['Height']<70)] #1\n",
    "\n",
    "if datos.iloc[1942]['Height']<60:\n",
    "    print('eres una persona de estatura baja')\n",
    "elif datos.iloc[1942]['Height']<70:\n",
    "    print('eres una persona de estatura promedio')\n",
    "else:\n",
    "    print('eres una persona de estatura alta')"
   ]
  },
  {
   "cell_type": "markdown",
   "metadata": {},
   "source": [
    "En caso de querer realizar algoritmos complejos, la instrucción ```if``` puede ser anidada, esto quiere decir que dentro de un ```if``` puede haber otro ```if```"
   ]
  },
  {
   "cell_type": "markdown",
   "metadata": {},
   "source": [
    ">```\n",
    "if condicion_1:\n",
    "    acciones\n",
    "    if condicion_2:\n",
    "        acciones\n",
    "    else:\n",
    "        acciones\n",
    "elif condicion_3:\n",
    "    acciones\n",
    "else:\n",
    "    acciones\n",
    "```"
   ]
  },
  {
   "cell_type": "markdown",
   "metadata": {},
   "source": [
    "## 5.2 Control de flujo: ```for```"
   ]
  },
  {
   "cell_type": "markdown",
   "metadata": {},
   "source": [
    "La instrucción ```for``` itera sobre los elementos de cualquier estructura de datos, es decir, listas, vectores NymPy y cuadros de datos pandas, en el orden en que aparecen, para generalizar cualquiera de los tipos de datos mencionados anteriormente se les llamara secuencia. A continuación, se muestra la estructura de la instrucción ```for```."
   ]
  },
  {
   "cell_type": "markdown",
   "metadata": {},
   "source": [
    ">```\n",
    "for contador in secuencia:\n",
    "    acciones a realizar\n",
    "```"
   ]
  },
  {
   "cell_type": "markdown",
   "metadata": {},
   "source": [
    "```contador``` es una variable como las hemos venido utilizando, pero en lugar de asignarle un valor con ```=```, a medida que se recorre la secuencia la variable ```contador``` ira tomando el valor de los elementos de ```secuencia``` a medida que se van recorriendo por el ```for```, lo común es utilizar las letras ```i```, ```j```, ```k```, ```l```, ```m``` y ```n``` como variables para el contador. A continuación, un ejemplo."
   ]
  },
  {
   "cell_type": "code",
   "execution_count": 209,
   "metadata": {},
   "outputs": [
    {
     "name": "stdout",
     "output_type": "stream",
     "text": [
      "  Gender     Height      Weight\n",
      "0   Male  73.847017  241.893563\n",
      "1   Male  68.781904  162.310473\n",
      "2   Male  74.110105  212.740856\n",
      "3   Male  71.730978  220.042470\n",
      "4   Male  69.881796  206.349801 \n",
      "\n",
      "241.893563180437\n",
      "162.3104725213\n",
      "212.7408555565\n",
      "220.042470303077\n",
      "206.349800623871\n"
     ]
    }
   ],
   "source": [
    "print(datos.head(5),'\\n')  #'\\n' es para hacer un salto de linea\n",
    "\n",
    "for i in datos['Weight'].head(5):\n",
    "    print(i)"
   ]
  },
  {
   "cell_type": "markdown",
   "metadata": {},
   "source": [
    "La instrucción ```for``` también es posible de anidar, es decir, que dentro de un ```for``` hay otro ```for``` pero con un contador diferente. Por último, cuando se desea recorrer dos o más secuencias del mismo tamaño de forma simultanea la instrucción es ```for i,j in zip( secuencia_1 , secuencia_2 )```"
   ]
  },
  {
   "cell_type": "code",
   "execution_count": 214,
   "metadata": {},
   "outputs": [
    {
     "name": "stdout",
     "output_type": "stream",
     "text": [
      "1 4\n",
      "1 5\n",
      "2 4\n",
      "2 5\n",
      "-------\n",
      "1 4\n",
      "2 5\n"
     ]
    }
   ],
   "source": [
    "for i in np.arange(1,3):\n",
    "    for j in np.arange(4,6):\n",
    "        print(i,j)\n",
    "        \n",
    "print('-------')\n",
    "\n",
    "for i,j in zip( np.arange(1,3) , np.arange(4,6) ):\n",
    "    print(i,j)"
   ]
  }
 ],
 "metadata": {
  "kernelspec": {
   "display_name": "Python 3",
   "language": "python",
   "name": "python3"
  },
  "language_info": {
   "codemirror_mode": {
    "name": "ipython",
    "version": 3
   },
   "file_extension": ".py",
   "mimetype": "text/x-python",
   "name": "python",
   "nbconvert_exporter": "python",
   "pygments_lexer": "ipython3",
   "version": "3.8.1"
  }
 },
 "nbformat": 4,
 "nbformat_minor": 4
}
