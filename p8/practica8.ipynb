{
 "cells": [
  {
   "cell_type": "markdown",
   "metadata": {},
   "source": [
    "# Práctica 8: Análisis de varianza y de componentes principales"
   ]
  },
  {
   "cell_type": "markdown",
   "metadata": {},
   "source": [
    "El análisis de varianza (**ANOVA**) es una herramienta estadística que nos permite determinar si una variable independiente tiene efecto significativo sobre una variable de interés. Antes de poder realizar el **ANOVA** es necesario poner de forma explicita como es el modelo que representa el problema. Al igual que en practicas pasadas se hace uso de la librería [**StatsModels**](https://www.statsmodels.org/stable/index.html) para realizar el **ANOVA** y el análisis se hace para los datos de cada uno de los niveles del factor función de activación."
   ]
  },
  {
   "cell_type": "code",
   "execution_count": 20,
   "metadata": {},
   "outputs": [],
   "source": [
    "import numpy as np\n",
    "import pandas as pd\n",
    "import matplotlib.pyplot as plt\n",
    "from statsmodels.formula.api import ols\n",
    "import statsmodels.api as sm\n",
    "import seaborn as sns\n",
    "%matplotlib inline\n",
    "\n",
    "d = pd.read_csv(\"../lbfgs_crudo.csv\", index_col=0)\n",
    "d_tanh=d.loc[d.activation=='tanh']\n",
    "d_tanh = pd.DataFrame(d_tanh, columns = ['test_accuracy','partition','layer_num','neurona_num','alpha'])\n",
    "d_log=d.loc[d.activation=='logistic']\n",
    "d_log = pd.DataFrame(d_log, columns = ['test_accuracy','partition','layer_num','neurona_num','alpha'])"
   ]
  },
  {
   "cell_type": "markdown",
   "metadata": {},
   "source": [
    "Los primeros datos que se analizan son aquellos en los que se usan una **función de activación logística**. Como primer paso se hace aplica el ANOVA para identificar los factores que tienen efecto sobre la precisión en el conjunto de prueba."
   ]
  },
  {
   "cell_type": "code",
   "execution_count": 21,
   "metadata": {},
   "outputs": [
    {
     "name": "stdout",
     "output_type": "stream",
     "text": [
      "                 sum_sq      df            F    PR(>F)\n",
      "partition      0.040586     1.0     0.793076  0.373221\n",
      "layer_num    332.568407     1.0  6498.671902  0.000000\n",
      "neurona_num    0.058425     1.0     1.141680  0.285357\n",
      "alpha          0.083927     1.0     1.640003  0.200394\n",
      "Residual     220.614677  4311.0          NaN       NaN\n",
      "partition no es significativo\n",
      "layer_num es significativo\n",
      "neurona_num no es significativo\n",
      "alpha no es significativo\n",
      "Residual no es significativo\n"
     ]
    }
   ],
   "source": [
    "m_log = ols('test_accuracy ~ partition + layer_num + neurona_num + alpha', data = d_log).fit() \n",
    "a_log = sm.stats.anova_lm(m_log, typ = 2)\n",
    "print(a_log)\n",
    "n = len(a_log)\n",
    "alfa = 0.05\n",
    "for i in range(n):\n",
    "    print(\"{:s} {:s}es significativo\".format(a_log.index[i], \"\" if a_log['PR(>F)'][i] < alfa else \"no \"))"
   ]
  },
  {
   "cell_type": "markdown",
   "metadata": {},
   "source": [
    "En este caso se tiene que solo el factor de numero de capas tiene un efecto significativo, lo cual ya ha aparecido en las practicas anteriores, sin embargo, se maneja con cuidado esta conclusión, aunque pudiera ser un caso especial. Es claro que la los residuales provienen de los errores del número de capas.El siguiente paso es identificar si existen interacciones entre los factores."
   ]
  },
  {
   "cell_type": "code",
   "execution_count": 22,
   "metadata": {},
   "outputs": [
    {
     "name": "stdout",
     "output_type": "stream",
     "text": [
      "                             sum_sq      df            F    PR(>F)\n",
      "partition              4.079240e-02     1.0     0.797182  0.371987\n",
      "layer_num              3.325666e+02     1.0  6499.156672  0.000000\n",
      "partition:layer_num    6.725893e-02     1.0     1.314402  0.251663\n",
      "neurona_num            5.864394e-02     1.0     1.146044  0.284439\n",
      "partition:neurona_num  5.131034e-04     1.0     0.010027  0.920241\n",
      "...                             ...     ...          ...       ...\n",
      "partition:alpha        5.980128e-03     1.0     0.116866  0.732475\n",
      "layer_num:neurona_num  1.247636e-01     1.0     2.438183  0.118487\n",
      "layer_num:alpha        1.256727e-01     1.0     2.455948  0.117154\n",
      "neurona_num:alpha      5.399260e-07     1.0     0.000011  0.997408\n",
      "Residual               2.202900e+02  4305.0          NaN       NaN\n",
      "\n",
      "[11 rows x 4 columns]\n",
      "partition NO es significativo\n",
      "layer_num es significativo\n",
      "partition:layer_num NO es significativo\n",
      "neurona_num NO es significativo\n",
      "partition:neurona_num NO es significativo\n",
      "alpha NO es significativo\n",
      "partition:alpha NO es significativo\n",
      "layer_num:neurona_num NO es significativo\n",
      "layer_num:alpha NO es significativo\n",
      "neurona_num:alpha NO es significativo\n",
      "Residual NO es significativo\n"
     ]
    }
   ],
   "source": [
    "m = ols('test_accuracy ~ partition*layer_num + partition*neurona_num + partition*alpha + layer_num*neurona_num + \\\n",
    "        layer_num*alpha + neurona_num*alpha', data = d_log).fit() \n",
    "a = sm.stats.anova_lm(m, typ = 2)\n",
    "print(a)\n",
    "n = len(a)\n",
    "alfa = 0.05\n",
    "for i in range(n):\n",
    "    print(\"{:s} {:s}es significativo\".format(a.index[i], \"\" if a['PR(>F)'][i] < alfa else \"NO \"))"
   ]
  },
  {
   "cell_type": "markdown",
   "metadata": {},
   "source": [
    "Para este conjunto de datos no existe interacción entre los factores, por lo que parece ser un comportamiento simple uno a uno. Para terminar con estos datos se aplica un **análisis de componente principal**, el cual es una herramienta que permite describir el conjunto de datos en términos de nuevas variables las cuales son menos que el número de variables original (reducción de variables). Esto con la finalidad de obtener nuevas variables que en el plano permitan separar clases."
   ]
  },
  {
   "cell_type": "code",
   "execution_count": 35,
   "metadata": {},
   "outputs": [
    {
     "data": {
      "text/html": [
       "<div>\n",
       "<style>\n",
       "    .dataframe thead tr:only-child th {\n",
       "        text-align: right;\n",
       "    }\n",
       "\n",
       "    .dataframe thead th {\n",
       "        text-align: left;\n",
       "    }\n",
       "\n",
       "    .dataframe tbody tr th {\n",
       "        vertical-align: top;\n",
       "    }\n",
       "</style>\n",
       "<table border=\"1\" class=\"dataframe\">\n",
       "  <thead>\n",
       "    <tr style=\"text-align: right;\">\n",
       "      <th></th>\n",
       "      <th>comp_0</th>\n",
       "      <th>comp_1</th>\n",
       "      <th>test_accuracy</th>\n",
       "    </tr>\n",
       "  </thead>\n",
       "  <tbody>\n",
       "    <tr>\n",
       "      <th>0</th>\n",
       "      <td>1.223171</td>\n",
       "      <td>-2.061458</td>\n",
       "      <td>0.8789</td>\n",
       "    </tr>\n",
       "    <tr>\n",
       "      <th>1</th>\n",
       "      <td>1.223188</td>\n",
       "      <td>-2.061427</td>\n",
       "      <td>0.8949</td>\n",
       "    </tr>\n",
       "    <tr>\n",
       "      <th>2</th>\n",
       "      <td>1.401699</td>\n",
       "      <td>-1.754129</td>\n",
       "      <td>0.8065</td>\n",
       "    </tr>\n",
       "    <tr>\n",
       "      <th>3</th>\n",
       "      <td>1.556816</td>\n",
       "      <td>-1.427152</td>\n",
       "      <td>0.1002</td>\n",
       "    </tr>\n",
       "    <tr>\n",
       "      <th>4</th>\n",
       "      <td>1.556834</td>\n",
       "      <td>-1.427121</td>\n",
       "      <td>0.0798</td>\n",
       "    </tr>\n",
       "  </tbody>\n",
       "</table>\n",
       "</div>"
      ],
      "text/plain": [
       "     comp_0    comp_1  test_accuracy\n",
       "0  1.223171 -2.061458         0.8789\n",
       "1  1.223188 -2.061427         0.8949\n",
       "2  1.401699 -1.754129         0.8065\n",
       "3  1.556816 -1.427152         0.1002\n",
       "4  1.556834 -1.427121         0.0798"
      ]
     },
     "metadata": {},
     "output_type": "display_data"
    },
    {
     "data": {
      "image/png": "[encoded data removed]",
      "text/plain": [
       "<matplotlib.figure.Figure at 0x24beba2bc18>"
      ]
     },
     "metadata": {},
     "output_type": "display_data"
    }
   ],
   "source": [
    "from sklearn.decomposition import PCA\n",
    "from sklearn.preprocessing import StandardScaler\n",
    "\n",
    "features = ['partition','layer_num','neurona_num','alpha']\n",
    "x = d_log.loc[:, features].values\n",
    "y = d_log.loc[:,['test_accuracy']].values\n",
    "x = StandardScaler().fit_transform(x)\n",
    "\n",
    "pca = PCA(n_components = 2)\n",
    "cd = pd.DataFrame(data = pca.fit_transform(x), columns = ['comp_{:d}'.format(i) for i in range(k)])\n",
    "cd['test_accuracy'] = y\n",
    "display(cd.head(5))\n",
    "\n",
    "n = len(cd)\n",
    "pri = cd.test_accuracy >= 0.9\n",
    "seg = cd.test_accuracy >= 0.8\n",
    "ter = ~ (pri | seg)\n",
    "\n",
    "plt.title('PCA bidimensional', fontsize = 20)\n",
    "plt.xlabel('Primer componente', fontsize = 15)\n",
    "plt.ylabel('Segundo componente', fontsize = 15)\n",
    "plt.scatter(cd.loc[pri].comp_0, cd.loc[pri].comp_1, c = 'g', s = 50)\n",
    "plt.scatter(cd.loc[seg].comp_0, cd.loc[seg].comp_1, c = 'b', s = 50)\n",
    "plt.scatter(cd.loc[ter].comp_0, cd.loc[ter].comp_1, c = 'r', s = 50)\n",
    "plt.legend(['Primera', 'Segunda', 'Tercera'])\n",
    "plt.grid()"
   ]
  },
  {
   "cell_type": "markdown",
   "metadata": {},
   "source": [
    "Ahora se pasa a analizar los datos en cuyo entrenamiento se uso la **función de activación tangente hiperbólica**."
   ]
  },
  {
   "cell_type": "code",
   "execution_count": 23,
   "metadata": {},
   "outputs": [
    {
     "name": "stdout",
     "output_type": "stream",
     "text": [
      "                 sum_sq      df             F         PR(>F)\n",
      "partition      0.397475     1.0     11.702320   6.300250e-04\n",
      "layer_num     38.772659     1.0   1141.531415  3.392213e-222\n",
      "neurona_num    0.592581     1.0     17.446572   3.013435e-05\n",
      "alpha        374.883578     1.0  11037.194658   0.000000e+00\n",
      "Residual     146.357239  4309.0           NaN            NaN\n",
      "partition es significativo\n",
      "layer_num es significativo\n",
      "neurona_num es significativo\n",
      "alpha es significativo\n",
      "Residual no es significativo\n"
     ]
    }
   ],
   "source": [
    "m_tanh = ols('test_accuracy ~ partition + layer_num + neurona_num + alpha', data = d_tanh).fit() \n",
    "a_tanh = sm.stats.anova_lm(m_tanh, typ = 2)\n",
    "print(a_tanh)\n",
    "n = len(a_tanh)\n",
    "alfa = 0.05\n",
    "for i in range(n):\n",
    "    print(\"{:s} {:s}es significativo\".format(a_tanh.index[i], \"\" if a_tanh['PR(>F)'][i] < alfa else \"no \"))"
   ]
  },
  {
   "cell_type": "markdown",
   "metadata": {},
   "source": [
    "En este caso se observa que todos los factores influyen sobre la variable de interés, también se observa que la variable que presenta mayor error cuadrado es la de *alpha*, debido a que en prácticas pasadas se comprobó que es necesario realizar una transformación para una regresión lineal. Lo siguiente es analizar las interacciones."
   ]
  },
  {
   "cell_type": "code",
   "execution_count": 24,
   "metadata": {},
   "outputs": [
    {
     "name": "stdout",
     "output_type": "stream",
     "text": [
      "                          sum_sq      df            F        PR(>F)\n",
      "partition               0.397782     1.0    23.202134  1.508505e-06\n",
      "layer_num              38.772984     1.0  2261.577546  0.000000e+00\n",
      "partition:layer_num     0.002220     1.0     0.129464  7.190056e-01\n",
      "neurona_num             0.592721     1.0    34.572658  4.417437e-09\n",
      "partition:neurona_num   0.000387     1.0     0.022584  8.805518e-01\n",
      "...                          ...     ...          ...           ...\n",
      "partition:alpha         0.031002     1.0     1.808323  1.787804e-01\n",
      "layer_num:neurona_num   0.015769     1.0     0.919798  3.375819e-01\n",
      "layer_num:alpha        72.452081     1.0  4226.035357  0.000000e+00\n",
      "neurona_num:alpha       0.087689     1.0     5.114811  2.377216e-02\n",
      "Residual               73.771580  4303.0          NaN           NaN\n",
      "\n",
      "[11 rows x 4 columns]\n",
      "partition es significativo\n",
      "layer_num es significativo\n",
      "partition:layer_num NO es significativo\n",
      "neurona_num es significativo\n",
      "partition:neurona_num NO es significativo\n",
      "alpha es significativo\n",
      "partition:alpha NO es significativo\n",
      "layer_num:neurona_num NO es significativo\n",
      "layer_num:alpha es significativo\n",
      "neurona_num:alpha es significativo\n",
      "Residual NO es significativo\n"
     ]
    }
   ],
   "source": [
    "m = ols('test_accuracy ~ partition*layer_num + partition*neurona_num + partition*alpha + layer_num*neurona_num + \\\n",
    "        layer_num*alpha + neurona_num*alpha', data = d_tanh).fit() \n",
    "a = sm.stats.anova_lm(m, typ = 2)\n",
    "print(a)\n",
    "n = len(a)\n",
    "alfa = 0.05\n",
    "for i in range(n):\n",
    "    print(\"{:s} {:s}es significativo\".format(a.index[i], \"\" if a['PR(>F)'][i] < alfa else \"NO \"))"
   ]
  },
  {
   "cell_type": "markdown",
   "metadata": {},
   "source": [
    "En este caso se tiene que las interacciones entre numero de capas-alpha y numero de neuronas-alpha son significativas sobre el rendimiento, esta conclusión ya se había mencionado en una practica anterior donde se mencionaba que era necesario un estudio de mayor detalle para la combinación de los niveles de algunos factores. Para finalizar se aplica el análisis de componente principal a este conjunto de datos."
   ]
  },
  {
   "cell_type": "code",
   "execution_count": 34,
   "metadata": {},
   "outputs": [
    {
     "data": {
      "text/html": [
       "<div>\n",
       "<style>\n",
       "    .dataframe thead tr:only-child th {\n",
       "        text-align: right;\n",
       "    }\n",
       "\n",
       "    .dataframe thead th {\n",
       "        text-align: left;\n",
       "    }\n",
       "\n",
       "    .dataframe tbody tr th {\n",
       "        vertical-align: top;\n",
       "    }\n",
       "</style>\n",
       "<table border=\"1\" class=\"dataframe\">\n",
       "  <thead>\n",
       "    <tr style=\"text-align: right;\">\n",
       "      <th></th>\n",
       "      <th>comp_0</th>\n",
       "      <th>comp_1</th>\n",
       "      <th>test_accuracy</th>\n",
       "    </tr>\n",
       "  </thead>\n",
       "  <tbody>\n",
       "    <tr>\n",
       "      <th>0</th>\n",
       "      <td>-1.812765</td>\n",
       "      <td>1.529408</td>\n",
       "      <td>0.8854</td>\n",
       "    </tr>\n",
       "    <tr>\n",
       "      <th>1</th>\n",
       "      <td>-1.812765</td>\n",
       "      <td>1.529408</td>\n",
       "      <td>0.8725</td>\n",
       "    </tr>\n",
       "    <tr>\n",
       "      <th>2</th>\n",
       "      <td>-1.812765</td>\n",
       "      <td>1.529408</td>\n",
       "      <td>0.8672</td>\n",
       "    </tr>\n",
       "    <tr>\n",
       "      <th>3</th>\n",
       "      <td>-1.942239</td>\n",
       "      <td>0.781270</td>\n",
       "      <td>0.8762</td>\n",
       "    </tr>\n",
       "    <tr>\n",
       "      <th>4</th>\n",
       "      <td>-1.942239</td>\n",
       "      <td>0.781270</td>\n",
       "      <td>0.8783</td>\n",
       "    </tr>\n",
       "  </tbody>\n",
       "</table>\n",
       "</div>"
      ],
      "text/plain": [
       "     comp_0    comp_1  test_accuracy\n",
       "0 -1.812765  1.529408         0.8854\n",
       "1 -1.812765  1.529408         0.8725\n",
       "2 -1.812765  1.529408         0.8672\n",
       "3 -1.942239  0.781270         0.8762\n",
       "4 -1.942239  0.781270         0.8783"
      ]
     },
     "metadata": {},
     "output_type": "display_data"
    },
    {
     "data": {
      "image/png": "[encoded data removed]",
      "text/plain": [
       "<matplotlib.figure.Figure at 0x24beb818748>"
      ]
     },
     "metadata": {},
     "output_type": "display_data"
    }
   ],
   "source": [
    "from sklearn.decomposition import PCA\n",
    "from sklearn.preprocessing import StandardScaler\n",
    "\n",
    "features = ['partition','layer_num','neurona_num','alpha']\n",
    "x = d_tanh.loc[:, features].values\n",
    "y = d_tanh.loc[:,['test_accuracy']].values\n",
    "x = StandardScaler().fit_transform(x)\n",
    "\n",
    "pca = PCA(n_components = 2)\n",
    "cd = pd.DataFrame(data = pca.fit_transform(x), columns = ['comp_{:d}'.format(i) for i in range(k)])\n",
    "cd['test_accuracy'] = y\n",
    "display(cd.head(5))\n",
    "\n",
    "n = len(cd)\n",
    "pri = cd.test_accuracy >= 0.9\n",
    "seg = cd.test_accuracy >= 0.8\n",
    "ter = ~ (pri | seg)\n",
    "\n",
    "plt.title('PCA bidimensional', fontsize = 20)\n",
    "plt.xlabel('Primer componente', fontsize = 15)\n",
    "plt.ylabel('Segundo componente', fontsize = 15)\n",
    "plt.scatter(cd.loc[pri].comp_0, cd.loc[pri].comp_1, c = 'g', s = 50)\n",
    "plt.scatter(cd.loc[seg].comp_0, cd.loc[seg].comp_1, c = 'b', s = 50)\n",
    "plt.scatter(cd.loc[ter].comp_0, cd.loc[ter].comp_1, c = 'r', s = 50)\n",
    "plt.legend(['Primera', 'Segunda', 'Tercera'])\n",
    "plt.grid()"
   ]
  }
 ],
 "metadata": {
  "kernelspec": {
   "display_name": "Python 3",
   "language": "python",
   "name": "python3"
  },
  "language_info": {
   "codemirror_mode": {
    "name": "ipython",
    "version": 3
   },
   "file_extension": ".py",
   "mimetype": "text/x-python",
   "name": "python",
   "nbconvert_exporter": "python",
   "pygments_lexer": "ipython3",
   "version": "3.6.3"
  }
 },
 "nbformat": 4,
 "nbformat_minor": 2
}
