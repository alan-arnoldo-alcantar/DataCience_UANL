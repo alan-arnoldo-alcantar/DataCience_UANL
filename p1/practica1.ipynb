{
 "cells": [
  {
   "cell_type": "markdown",
   "metadata": {},
   "source": [
    "# Práctica 1: Preparación de datos\n",
    "\n",
    "Al mismo tiempo que se cursa esta materia, se elabora un trabajo de tesis. Una parte de este trabajo de tesis consiste en llevar a cabo un diseño de experimentos para el modelo de una red neuronal, la cual se importa de la librería [**SK-Learn**](https://scikit-learn.org/stable/modules/generated/sklearn.neural_network.MLPClassifier.html) para el lenguaje de programación [**Python**](https://www.python.org/) y esta se utiliza para resolver un problema de clasificación. El problema consiste en identificar un digito del 0 al 9 a partir de una matriz cuyas celdas son números enteros que representa la escala en grises de la imagen que forma y para ello se entrena la red neuronal utilizando la base de datos [**MNIST**](http://yann.lecun.com/exdb/mnist/).\n",
    "\n",
    "El objetivo de realizar un diseño de experimentos a la red neuronal es para obtener la combinación de parámetros que obtiene mejores resultados, por lo tanto, los factores del diseño de experimentos son los parámetros de la red neuronal. De modo que los resultados consisten en los siguientes datos:\n",
    "\n",
    "1. Etiqueta: número de identificación\n",
    "2. Partición: porcentaje de datos que se utilizo de la base MNIST\n",
    "3. Solucionador: método para ajustar la red neuronal\n",
    "4. Capas: número de capas ocultas de la red neuronal\n",
    "5. Neuronas: número de neuronas en cada capa oculta\n",
    "6. Activación: función para normalizar la salida de cada neurona \n",
    "7. Alfa: coeficiente de penalización\n",
    "8. Tasa de aprendizaje: tamaño de paso en la exploración de la solución\n",
    "9. Precisión de entrenamiento: precisión de acierto en la fase de entrenamiento\n",
    "10. Tiempo de entrenamiento\n",
    "11. Precisión de prueba: precisión de acierto en la fase de prueba\n",
    "\n",
    "Esta primera practica consiste en utilizar **Bash** para realizar un preprocesamiento a los datos para que estén en un formato uniforme y libres de errores. Debido a lo mencionado anteriormente del origen de los datos no es necesario este paso. Debido a la naturaleza de este problema algunas de las preguntas que se quieren contestar son:\n",
    "\n",
    "* ¿Qué factores influyen sobre el tiempo de entrenamiento y la precisión de prueba?\n",
    "* ¿Existe diferencia significativa entre los niveles de los factores?\n",
    "* ¿Cuál es la combinación de parámetros que tiene mejor precisión de prueba?\n"
   ]
  }
 ],
 "metadata": {
  "kernelspec": {
   "display_name": "Python 3",
   "language": "python",
   "name": "python3"
  },
  "language_info": {
   "codemirror_mode": {
    "name": "ipython",
    "version": 3
   },
   "file_extension": ".py",
   "mimetype": "text/x-python",
   "name": "python",
   "nbconvert_exporter": "python",
   "pygments_lexer": "ipython3",
   "version": "3.6.3"
  }
 },
 "nbformat": 4,
 "nbformat_minor": 2
}
