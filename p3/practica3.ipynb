{
 "cells": [
  {
   "cell_type": "markdown",
   "metadata": {},
   "source": [
    "# Practica 3"
   ]
  },
  {
   "cell_type": "markdown",
   "metadata": {},
   "source": [
    "Esta tercera practica consiste en obtener información simple y descriptiva que de indicios sobre los patrones que tiene nuestro problema. La idea es responder preguntas simples que ayuden posteriormente a formular nuestras hipótesis para futuras prácticas.\n",
    "\n",
    "En la practica anterior se estructuro los datos de acuerdo a las distintas combinaciones de parámetros del diseño de experimentos para cada método de solución, sin embargo, para facilitarnos la tarea se trabaja con los datos crudos."
   ]
  },
  {
   "cell_type": "code",
   "execution_count": null,
   "metadata": {
    "collapsed": true
   },
   "outputs": [],
   "source": []
  }
 ],
 "metadata": {
  "kernelspec": {
   "display_name": "Python 3",
   "language": "python",
   "name": "python3"
  },
  "language_info": {
   "codemirror_mode": {
    "name": "ipython",
    "version": 3
   },
   "file_extension": ".py",
   "mimetype": "text/x-python",
   "name": "python",
   "nbconvert_exporter": "python",
   "pygments_lexer": "ipython3",
   "version": "3.6.3"
  }
 },
 "nbformat": 4,
 "nbformat_minor": 2
}
